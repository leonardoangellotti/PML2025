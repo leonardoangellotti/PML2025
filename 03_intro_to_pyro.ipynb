{
 "cells": [
  {
   "cell_type": "markdown",
   "id": "435e8830",
   "metadata": {},
   "source": [
    "<a href=\"https://colab.research.google.com/github/r-doz/PML2025/blob/main/./02_numpy_pandas_sklearn/03_intro_to_pyro.ipynb\" target=\"_parent\"><img src=\"https://colab.research.google.com/assets/colab-badge.svg\" alt=\"Open In Colab\"/></a>"
   ]
  },
  {
   "cell_type": "markdown",
   "metadata": {},
   "source": [
    "# Notebook 3: Introduction to **Pyro**\n",
    "\n",
    "Probabilistic Machine Learning -- Spring 2025, UniTS\n",
    "\n",
    "The material in this notebook is based on the [Pyro's documentation](https://pyro.ai) and from the previous work of [Emanuele Ballarin](https://ballarin.cc)."
   ]
  },
  {
   "cell_type": "markdown",
   "metadata": {},
   "source": [
    "Probabilistic programming is a **programming paradigm** that allows us to describe uncertainty and randomness in our models and data. \n",
    "\n",
    "In traditional programming, we usually deal with **deterministic processes**, i.e. processes where *the same input always leads to the same output*, e.g. `3+5` will always return `8`. \n",
    "But in many real-world problems, we deal with uncertain data or uncertain models, and that's where probabilistic programming comes in.\n",
    "\n",
    "Imagine you're building a weather prediction system. You have data on temperature, humidity, and pressure, but you can never be completely certain about the weather. Probabilistic programming allows you to model this uncertainty in a **precise** and **formal** way. For example, if we’re predicting the chance of rain tomorrow based on uncertain weather data, **our model will return a probability distribution**, such as a 70% chance of rain."
   ]
  },
  {
   "cell_type": "markdown",
   "metadata": {},
   "source": [
    "- **random variables:** variables that represent uncertain or random quantities (e.g. the chance of rain tomorrow) - they will assume different values based on a certain probability distribution;\n",
    "- **probabilistic models:** mathematical models describing uncertainty in a system (e.g. a model that predicts whether it will rain tomorrow based on past weather data) - describes how random variables interact, often built on *bayesian statistics*;\n",
    "- **inference:** the process of updating our beliefs or predictions about uncertain variables based on available data, involving algorithms like Markov Chain Monte Carlo (MCMC) or variational inference - consists in obtaining *posterior distributions*."
   ]
  },
  {
   "cell_type": "markdown",
   "metadata": {},
   "source": [
    "### Practically speaking:\n",
    "Probabilistic programs combine **ordinary deterministic computation** with **randomly sampled values**, representing a generative process for data.\n",
    "\n",
    "In general, the aim is to solve an inference problem, as \"what must be true if this random variable assumed a certain observed value?\", following the steps:\n",
    "\n",
    "- Specify a model\n",
    "- Identify a query to be answered\n",
    "- Choose an algorithm for computing the answer"
   ]
  },
  {
   "cell_type": "markdown",
   "metadata": {},
   "source": [
    "## Probabilistic models in Pyro\n",
    "\n",
    "Pyro is a:\n",
    "\n",
    "- **deep:** allows *automatic differentiation of primitives*, making it play well with deep learning architectures\n",
    "- **universal:** allows all probabilistic programs to be *correctly expressed*.\n",
    "\n",
    "PPL based on PyTorch. This provides efficient, flexible and scalable (up to very large datasets) automatic optimisation-based inference, GPU-accelerated tensor mathematics (as with plain PyTorch), and the ability to exploit (internally or explicitly) automatic differentiation."
   ]
  },
  {
   "cell_type": "code",
   "execution_count": 1,
   "metadata": {},
   "outputs": [],
   "source": [
    "# If you run this notebook in Colab, do not forget to (uncomment and) run:\n",
    "# !pip install pyro-ppl"
   ]
  },
  {
   "cell_type": "markdown",
   "metadata": {},
   "source": [
    "### Modelling / Simulation\n",
    "\n",
    "A ***statistical model*** is a mathematical description of how some *knowns* (and what's their *form*, since they are known!) and *unknowns* (and ***how** unknown?*; see *e.g.* this [seminal work by E.T. Jaynes](https://bayes.wustl.edu/etj/articles/prior.pdf)!) generate the observed data.\n",
    "\n",
    "The basic unit of *probabilistic programming* is a *stochastic function*, a function representing a ***generative model*** of the data indeed. In `Pyro`, any function can be viewed as a stochastic function: significantly, functions mixing deterministic Python/`PyTorch` code with *sampling primitives* are generally considered to be *proper* *stochastic function*s."
   ]
  },
  {
   "cell_type": "code",
   "execution_count": 1,
   "metadata": {},
   "outputs": [
    {
     "name": "stderr",
     "output_type": "stream",
     "text": [
      "/home/saracandussio/.conda/envs/stdenv/lib/python3.11/site-packages/tqdm/auto.py:21: TqdmWarning: IProgress not found. Please update jupyter and ipywidgets. See https://ipywidgets.readthedocs.io/en/stable/user_install.html\n",
      "  from .autonotebook import tqdm as notebook_tqdm\n"
     ]
    }
   ],
   "source": [
    "#SETUP: IMPORT THE MODULES WE MAY NEED\n",
    "import torch\n",
    "import seaborn as sns\n",
    "\n",
    "import pyro\n",
    "import pyro.distributions as dist"
   ]
  },
  {
   "cell_type": "markdown",
   "metadata": {},
   "source": [
    "### Sampling"
   ]
  },
  {
   "cell_type": "markdown",
   "metadata": {},
   "source": [
    "In order to sample from a given distribution we use the `pyro.sample` function"
   ]
  },
  {
   "cell_type": "code",
   "execution_count": 17,
   "metadata": {},
   "outputs": [
    {
     "data": {
      "text/plain": [
       "tensor(-0.3865)"
      ]
     },
     "execution_count": 17,
     "metadata": {},
     "output_type": "execute_result"
    }
   ],
   "source": [
    "pyro.sample(name=\"just_a_sample\",\n",
    "            fn=dist.Normal(loc=0, scale=1))"
   ]
  },
  {
   "cell_type": "code",
   "execution_count": 18,
   "metadata": {},
   "outputs": [
    {
     "data": {
      "text/plain": [
       "tensor([-0.7983,  0.5863, -0.1324,  1.2526,  0.1988, -0.3740, -0.8898, -0.2044,\n",
       "        -0.6930,  1.0193])"
      ]
     },
     "execution_count": 18,
     "metadata": {},
     "output_type": "execute_result"
    }
   ],
   "source": [
    "# sampling multiple times\n",
    "pyro.sample(name=\"other_samples\",\n",
    "            fn=dist.Normal(loc=0, scale=1),\n",
    "            sample_shape=(10,))"
   ]
  },
  {
   "cell_type": "markdown",
   "metadata": {},
   "source": [
    "Pyro is based on PyTorch's tensors, one of the reasons is that many of its functionalities need automatic differentiation."
   ]
  },
  {
   "cell_type": "code",
   "execution_count": 19,
   "metadata": {},
   "outputs": [
    {
     "name": "stdout",
     "output_type": "stream",
     "text": [
      "Pyro sample: tensor([ 2.9131, -0.4978, -0.6509, -0.6660,  0.0435,  1.5870,  1.8568,  0.8107,\n",
      "         0.8178,  1.9882]); type <class 'torch.Tensor'>\n"
     ]
    }
   ],
   "source": [
    "x_pyro = pyro.sample(name=\"other_samples\",\n",
    "            fn=dist.Normal(loc=0, scale=1),\n",
    "            sample_shape=(10,))\n",
    "\n",
    "print(f\"Pyro sample: {x_pyro}; type {type(x_pyro)}\")"
   ]
  },
  {
   "cell_type": "markdown",
   "metadata": {},
   "source": [
    "### Defining a model"
   ]
  },
  {
   "cell_type": "markdown",
   "metadata": {},
   "source": [
    "Notice that we had to specify a name when sampling, but why is it mandatory?\n",
    "\n",
    "The point is that `pyro.sample` is not only made for sampling (for that there are simpler functions in `torch` or `numpy`), but under the hood it also keeps track of the random variables with their given names, and in general of the full generative process!\n",
    "\n",
    "To exploit this feature we have to 'enclose' all `pyro.sample` calls inside a function that we define, representing the generative process (the model), for example:"
   ]
  },
  {
   "cell_type": "code",
   "execution_count": 20,
   "metadata": {},
   "outputs": [],
   "source": [
    "def my_model():\n",
    "    x = pyro.sample(\"x\", dist.Bernoulli(0.3))\n",
    "    pyro.sample(\"y\", dist.Normal(x, 1))"
   ]
  },
  {
   "cell_type": "markdown",
   "metadata": {},
   "source": [
    "The `my_model` function now represents a model of a stochastic process, in this case:\n",
    "\n",
    "$$X \\sim Bern(0.3)$$\n",
    "$$Y \\sim \\mathcal{N}(X, 1)$$\n",
    "\n",
    "or in other words\n",
    "$$p(x,y) = p(x)p(y|x) \\ \\ \\text{where:}$$\n",
    "$$p(x) = Bern(x; 0.3)$$\n",
    "$$p(y|x) \\sim \\mathcal{N}(y | \\mu = x, \\sigma = 1)$$\n",
    "\n",
    "Pyro has functions that can take `my_model` as input and do very useful things.\n",
    "\n",
    "This is an example of one of these functionalities: we can plot the graphical model representing the stochastic process we defined:"
   ]
  },
  {
   "cell_type": "code",
   "execution_count": 23,
   "metadata": {},
   "outputs": [
    {
     "data": {
      "image/svg+xml": [
       "<?xml version=\"1.0\" encoding=\"UTF-8\" standalone=\"no\"?>\n",
       "<!DOCTYPE svg PUBLIC \"-//W3C//DTD SVG 1.1//EN\"\n",
       " \"http://www.w3.org/Graphics/SVG/1.1/DTD/svg11.dtd\">\n",
       "<!-- Generated by graphviz version 9.0.0 (20231125.0833)\n",
       " -->\n",
       "<!-- Pages: 1 -->\n",
       "<svg width=\"62pt\" height=\"116pt\"\n",
       " viewBox=\"0.00 0.00 62.00 116.00\" xmlns=\"http://www.w3.org/2000/svg\" xmlns:xlink=\"http://www.w3.org/1999/xlink\">\n",
       "<g id=\"graph0\" class=\"graph\" transform=\"scale(1 1) rotate(0) translate(4 112)\">\n",
       "<polygon fill=\"white\" stroke=\"none\" points=\"-4,4 -4,-112 58,-112 58,4 -4,4\"/>\n",
       "<!-- x -->\n",
       "<g id=\"node1\" class=\"node\">\n",
       "<title>x</title>\n",
       "<ellipse fill=\"white\" stroke=\"black\" cx=\"27\" cy=\"-90\" rx=\"27\" ry=\"18\"/>\n",
       "<text text-anchor=\"middle\" x=\"27\" y=\"-85.33\" font-family=\"Times,serif\" font-size=\"14.00\">x</text>\n",
       "</g>\n",
       "<!-- y -->\n",
       "<g id=\"node2\" class=\"node\">\n",
       "<title>y</title>\n",
       "<ellipse fill=\"white\" stroke=\"black\" cx=\"27\" cy=\"-18\" rx=\"27\" ry=\"18\"/>\n",
       "<text text-anchor=\"middle\" x=\"27\" y=\"-13.32\" font-family=\"Times,serif\" font-size=\"14.00\">y</text>\n",
       "</g>\n",
       "<!-- x&#45;&gt;y -->\n",
       "<g id=\"edge1\" class=\"edge\">\n",
       "<title>x&#45;&gt;y</title>\n",
       "<path fill=\"none\" stroke=\"black\" d=\"M27,-71.7C27,-64.41 27,-55.73 27,-47.54\"/>\n",
       "<polygon fill=\"black\" stroke=\"black\" points=\"30.5,-47.62 27,-37.62 23.5,-47.62 30.5,-47.62\"/>\n",
       "</g>\n",
       "</g>\n",
       "</svg>\n"
      ],
      "text/plain": [
       "<graphviz.graphs.Digraph at 0x7fcc361c3a10>"
      ]
     },
     "execution_count": 23,
     "metadata": {},
     "output_type": "execute_result"
    }
   ],
   "source": [
    "pyro.render_model(my_model)\n",
    "\n",
    "# For this you need to install graphviz:\n",
    "# sudo apt install graphviz\n",
    "# pip install graphviz"
   ]
  },
  {
   "cell_type": "code",
   "execution_count": 24,
   "metadata": {},
   "outputs": [
    {
     "data": {
      "image/svg+xml": [
       "<?xml version=\"1.0\" encoding=\"UTF-8\" standalone=\"no\"?>\n",
       "<!DOCTYPE svg PUBLIC \"-//W3C//DTD SVG 1.1//EN\"\n",
       " \"http://www.w3.org/Graphics/SVG/1.1/DTD/svg11.dtd\">\n",
       "<!-- Generated by graphviz version 9.0.0 (20231125.0833)\n",
       " -->\n",
       "<!-- Pages: 1 -->\n",
       "<svg width=\"190pt\" height=\"123pt\"\n",
       " viewBox=\"0.00 0.00 190.25 122.50\" xmlns=\"http://www.w3.org/2000/svg\" xmlns:xlink=\"http://www.w3.org/1999/xlink\">\n",
       "<g id=\"graph0\" class=\"graph\" transform=\"scale(1 1) rotate(0) translate(4 118.5)\">\n",
       "<polygon fill=\"white\" stroke=\"none\" points=\"-4,4 -4,-118.5 186.25,-118.5 186.25,4 -4,4\"/>\n",
       "<!-- x -->\n",
       "<g id=\"node1\" class=\"node\">\n",
       "<title>x</title>\n",
       "<ellipse fill=\"white\" stroke=\"black\" cx=\"27\" cy=\"-93.25\" rx=\"27\" ry=\"18\"/>\n",
       "<text text-anchor=\"middle\" x=\"27\" y=\"-88.58\" font-family=\"Times,serif\" font-size=\"14.00\">x</text>\n",
       "</g>\n",
       "<!-- y -->\n",
       "<g id=\"node2\" class=\"node\">\n",
       "<title>y</title>\n",
       "<ellipse fill=\"white\" stroke=\"black\" cx=\"27\" cy=\"-18\" rx=\"27\" ry=\"18\"/>\n",
       "<text text-anchor=\"middle\" x=\"27\" y=\"-13.32\" font-family=\"Times,serif\" font-size=\"14.00\">y</text>\n",
       "</g>\n",
       "<!-- x&#45;&gt;y -->\n",
       "<g id=\"edge1\" class=\"edge\">\n",
       "<title>x&#45;&gt;y</title>\n",
       "<path fill=\"none\" stroke=\"black\" d=\"M27,-74.89C27,-66.83 27,-57.03 27,-47.9\"/>\n",
       "<polygon fill=\"black\" stroke=\"black\" points=\"30.5,-48 27,-38 23.5,-48 30.5,-48\"/>\n",
       "</g>\n",
       "<!-- distribution_description_node -->\n",
       "<g id=\"node3\" class=\"node\">\n",
       "<title>distribution_description_node</title>\n",
       "<text text-anchor=\"start\" x=\"79.75\" y=\"-97.2\" font-family=\"Times,serif\" font-size=\"14.00\">x ~ Bernoulli</text>\n",
       "<text text-anchor=\"start\" x=\"79.75\" y=\"-79.95\" font-family=\"Times,serif\" font-size=\"14.00\">y ~ Normal</text>\n",
       "</g>\n",
       "</g>\n",
       "</svg>\n"
      ],
      "text/plain": [
       "<graphviz.graphs.Digraph at 0x7fcc34857310>"
      ]
     },
     "execution_count": 24,
     "metadata": {},
     "output_type": "execute_result"
    }
   ],
   "source": [
    "pyro.render_model(my_model, render_distributions=True)"
   ]
  },
  {
   "cell_type": "markdown",
   "metadata": {},
   "source": [
    "Plotting a Bayesian network is not the most useful thing you can do with pyro, but it shows you that pyro is able to understand the model from the code you write inside a function. \n",
    "\n",
    "**Inference** is actually the point of using a PPL as pyro, but in this lesson we will mostly limit ourselves to sampling, since you have still to learn about **approximate inference**."
   ]
  },
  {
   "cell_type": "markdown",
   "metadata": {},
   "source": [
    "**Example: the *exam grade stochastic model***\n",
    "\n",
    "A **very false** (but probably didactically useful) model for the grade of an exam is the following:\n",
    "\n",
    "The grade of an exam (in tenths) depends on the difficulty of the exam and on the knowledge of the student, according to the following model:\n",
    "\n",
    "$$\\text{difficulty}\\sim\\text{Bern(0.5)}$$  \n",
    "$$\\text{knowledge}\\sim\\text{Bern(0.3)}$$  \n",
    "$$\\text{grade} \\sim \\mathcal{N}(\\mu = 4\\cdot\\text{knowledge}-2\\cdot\\text{difficulty}+4,\\sigma = 1)$$  \n",
    "\n",
    "We can easily implement this model in `Pyro`:"
   ]
  },
  {
   "cell_type": "code",
   "execution_count": 25,
   "metadata": {},
   "outputs": [
    {
     "name": "stdout",
     "output_type": "stream",
     "text": [
      "easy exam + not knowledg. student -> grade = 4.361023426055908\n",
      "easy exam + knowledgeable student -> grade = 8.219879150390625\n",
      "hard exam + knowledgeable student -> grade = 6.540139675140381\n",
      "easy exam + not knowledg. student -> grade = 4.118636608123779\n",
      "easy exam + knowledgeable student -> grade = 8.587127685546875\n",
      "hard exam + knowledgeable student -> grade = 6.136934280395508\n",
      "hard exam + not knowledg. student -> grade = 2.412254571914673\n",
      "hard exam + knowledgeable student -> grade = 5.792545318603516\n",
      "easy exam + not knowledg. student -> grade = 3.146474599838257\n",
      "easy exam + knowledgeable student -> grade = 8.733067512512207\n"
     ]
    }
   ],
   "source": [
    "def describe_grade():\n",
    "    difficulty = pyro.sample(\"exam\", dist.Bernoulli(0.5))\n",
    "    is_hard = \"hard\" if difficulty.item() == 1.0 else \"easy\"\n",
    "\n",
    "    knowledge = pyro.sample(\"knowledge\", dist.Bernoulli(0.3))\n",
    "    is_knowledgeable = \"knowledgeable\" if knowledge.item() == 1.0 else \"not knowledg.\"\n",
    "\n",
    "    mu = 4 * knowledge - 2 * difficulty + 4\n",
    "    grade = pyro.sample(\"grade\", dist.Normal(loc=mu, scale=1))\n",
    "\n",
    "    print(f\"{is_hard} exam + {is_knowledgeable} student -> grade = {grade}\")\n",
    "\n",
    "for _ in range(10):\n",
    "    describe_grade()"
   ]
  },
  {
   "cell_type": "markdown",
   "metadata": {},
   "source": [
    "We can use pyro to plot the bayesian net corresponding to a model we defined.:"
   ]
  },
  {
   "cell_type": "code",
   "execution_count": 26,
   "metadata": {},
   "outputs": [
    {
     "name": "stdout",
     "output_type": "stream",
     "text": [
      "hard exam + not knowledg. student -> grade = 2.0584044456481934\n"
     ]
    },
    {
     "data": {
      "image/svg+xml": [
       "<?xml version=\"1.0\" encoding=\"UTF-8\" standalone=\"no\"?>\n",
       "<!DOCTYPE svg PUBLIC \"-//W3C//DTD SVG 1.1//EN\"\n",
       " \"http://www.w3.org/Graphics/SVG/1.1/DTD/svg11.dtd\">\n",
       "<!-- Generated by graphviz version 9.0.0 (20231125.0833)\n",
       " -->\n",
       "<!-- Pages: 1 -->\n",
       "<svg width=\"232pt\" height=\"116pt\"\n",
       " viewBox=\"0.00 0.00 231.94 116.00\" xmlns=\"http://www.w3.org/2000/svg\" xmlns:xlink=\"http://www.w3.org/1999/xlink\">\n",
       "<g id=\"graph0\" class=\"graph\" transform=\"scale(1 1) rotate(0) translate(4 112)\">\n",
       "<polygon fill=\"white\" stroke=\"none\" points=\"-4,4 -4,-112 227.94,-112 227.94,4 -4,4\"/>\n",
       "<!-- exam -->\n",
       "<g id=\"node1\" class=\"node\">\n",
       "<title>exam</title>\n",
       "<ellipse fill=\"white\" stroke=\"black\" cx=\"38.06\" cy=\"-90\" rx=\"38.06\" ry=\"18\"/>\n",
       "<text text-anchor=\"middle\" x=\"38.06\" y=\"-85.33\" font-family=\"Times,serif\" font-size=\"14.00\">exam</text>\n",
       "</g>\n",
       "<!-- grade -->\n",
       "<g id=\"node3\" class=\"node\">\n",
       "<title>grade</title>\n",
       "<ellipse fill=\"white\" stroke=\"black\" cx=\"98.06\" cy=\"-18\" rx=\"40.16\" ry=\"18\"/>\n",
       "<text text-anchor=\"middle\" x=\"98.06\" y=\"-13.32\" font-family=\"Times,serif\" font-size=\"14.00\">grade</text>\n",
       "</g>\n",
       "<!-- exam&#45;&gt;grade -->\n",
       "<g id=\"edge1\" class=\"edge\">\n",
       "<title>exam&#45;&gt;grade</title>\n",
       "<path fill=\"none\" stroke=\"black\" d=\"M51.97,-72.76C59.39,-64.11 68.68,-53.27 76.97,-43.6\"/>\n",
       "<polygon fill=\"black\" stroke=\"black\" points=\"79.38,-46.17 83.23,-36.3 74.06,-41.61 79.38,-46.17\"/>\n",
       "</g>\n",
       "<!-- knowledge -->\n",
       "<g id=\"node2\" class=\"node\">\n",
       "<title>knowledge</title>\n",
       "<ellipse fill=\"white\" stroke=\"black\" cx=\"159.06\" cy=\"-90\" rx=\"64.89\" ry=\"18\"/>\n",
       "<text text-anchor=\"middle\" x=\"159.06\" y=\"-85.33\" font-family=\"Times,serif\" font-size=\"14.00\">knowledge</text>\n",
       "</g>\n",
       "<!-- knowledge&#45;&gt;grade -->\n",
       "<g id=\"edge2\" class=\"edge\">\n",
       "<title>knowledge&#45;&gt;grade</title>\n",
       "<path fill=\"none\" stroke=\"black\" d=\"M144.29,-72.05C136.91,-63.59 127.85,-53.19 119.71,-43.84\"/>\n",
       "<polygon fill=\"black\" stroke=\"black\" points=\"122.47,-41.69 113.26,-36.45 117.19,-46.29 122.47,-41.69\"/>\n",
       "</g>\n",
       "</g>\n",
       "</svg>\n"
      ],
      "text/plain": [
       "<graphviz.graphs.Digraph at 0x7fcc348c0dd0>"
      ]
     },
     "execution_count": 26,
     "metadata": {},
     "output_type": "execute_result"
    }
   ],
   "source": [
    "pyro.render_model(describe_grade)"
   ]
  },
  {
   "cell_type": "markdown",
   "metadata": {},
   "source": [
    "We can also compute the likelihood of samples:"
   ]
  },
  {
   "cell_type": "code",
   "execution_count": 30,
   "metadata": {},
   "outputs": [
    {
     "name": "stdout",
     "output_type": "stream",
     "text": [
      "easy exam + not knowledg. student -> grade = 2.6978259086608887\n",
      "sample likelihood: 0.05980958417057991\n"
     ]
    }
   ],
   "source": [
    "def compute_likelihood(model, *args):\n",
    "    return torch.exp(pyro.poutine.trace(model).get_trace(*args).log_prob_sum()).item()\n",
    "\n",
    "print('sample likelihood:', compute_likelihood(describe_grade))"
   ]
  },
  {
   "cell_type": "markdown",
   "metadata": {},
   "source": [
    "This is probably not really useful by itself, but the possibility to compute the likelihood is fundamental for most inference techniques (just think about maximum likelihood estimation)."
   ]
  },
  {
   "cell_type": "markdown",
   "metadata": {},
   "source": [
    "**Example: weather**"
   ]
  },
  {
   "cell_type": "code",
   "execution_count": 32,
   "metadata": {},
   "outputs": [
    {
     "name": "stdout",
     "output_type": "stream",
     "text": [
      "{'weather': 'cloudy', 'temp': 11.343801498413086}\n",
      "{'weather': 'cloudy', 'temp': 11.696417808532715}\n",
      "{'weather': 'sunny', 'temp': 26.37136459350586}\n",
      "{'weather': 'sunny', 'temp': 28.519710540771484}\n",
      "{'weather': 'sunny', 'temp': 26.019596099853516}\n"
     ]
    }
   ],
   "source": [
    "def weather():# -> dict[str, Any]:\n",
    "    is_cloudy = pyro.sample(\"cloudy\", dist.Bernoulli(0.3))\n",
    "    weather = \"cloudy\" if is_cloudy.item() == 1.0 else \"sunny\"\n",
    "    \n",
    "    loc_temp = 12.0 if weather == \"cloudy\" else 23.00\n",
    "    scale_temp = 5.0 if weather == \"cloudy\" else 6.00\n",
    "    temp = pyro.sample(\"temp\", dist.Normal(loc_temp, scale_temp))\n",
    "    return {\"weather\": weather, \"temp\": temp.item()}\n",
    "\n",
    "for _ in range(5):\n",
    "    print(weather())"
   ]
  },
  {
   "cell_type": "markdown",
   "metadata": {},
   "source": [
    "Additionally, we could use this stochastic function to model the sales of ice cream based on the weather."
   ]
  },
  {
   "cell_type": "code",
   "execution_count": 34,
   "metadata": {},
   "outputs": [
    {
     "name": "stdout",
     "output_type": "stream",
     "text": [
      "25.463397979736328\n",
      "23.79159164428711\n",
      "13.573902130126953\n",
      "1.4839608669281006\n",
      "33.592628479003906\n"
     ]
    }
   ],
   "source": [
    "def ice_cream_sales():\n",
    "    is_cloudy, temp = weather()\n",
    "    expected_sales = 200.0 if (is_cloudy == 1 and temp > 35.0) else 20.0\n",
    "    sales = pyro.sample(\"ice_cream\", pyro.distributions.HalfNormal(expected_sales, 10.0))\n",
    "    return sales.item()\n",
    "\n",
    "for _ in range(5):\n",
    "    print(ice_cream_sales())"
   ]
  },
  {
   "cell_type": "markdown",
   "metadata": {},
   "source": [
    "This represents the following model\n",
    "$$p(\\text{cloudy}, \\text{temp}, \\text{ice cream sales}) = p(\\text{ice cream sales} |  \\text{temp}, \\text{cloudy})p( \\text{temp} | \\text{cloudy})p(\\text{cloudy})$$\n",
    "We can find any marginal as $p(\\text{ice cream sales})$ by simulation (instead of by marginalization). It is sufficient to get enough samples and look at the histogram of ice_cream_sales:"
   ]
  },
  {
   "cell_type": "code",
   "execution_count": 35,
   "metadata": {},
   "outputs": [
    {
     "data": {
      "image/png": "[encoded data removed]",
      "text/plain": [
       "<Figure size 640x480 with 1 Axes>"
      ]
     },
     "metadata": {},
     "output_type": "display_data"
    }
   ],
   "source": [
    "n = 10_000\n",
    "samples = [ice_cream_sales() for _ in range(n)]\n",
    "_ = sns.histplot(samples, kde=True)"
   ]
  },
  {
   "cell_type": "markdown",
   "metadata": {},
   "source": [
    "Quite slow, right?"
   ]
  },
  {
   "cell_type": "markdown",
   "metadata": {},
   "source": [
    "### Observed values"
   ]
  },
  {
   "cell_type": "markdown",
   "metadata": {},
   "source": [
    "Let's consider again the exam grade model. \n",
    "\n",
    "The `pyro.sample` method accepts also a `obs` argument, this can be used to tell the model that you have observed a value for that random variable. As a result of this, the output will be exactly the given observations (unless `obs=None`). What's the point of this? Again, this is something useful for **inference**, but here we can just check that pyro is able to recognize it."
   ]
  },
  {
   "cell_type": "code",
   "execution_count": 47,
   "metadata": {},
   "outputs": [
    {
     "name": "stdout",
     "output_type": "stream",
     "text": [
      "hard exam + not knowledg. student -> grade = 3.524592161178589\n"
     ]
    }
   ],
   "source": [
    "def describe_grade(obs=None):\n",
    "    difficulty = pyro.sample(\"exam\", dist.Bernoulli(0.5))\n",
    "    is_hard = \"hard\" if difficulty.item() == 1.0 else \"easy\"\n",
    "\n",
    "    knowledge = pyro.sample(\"knowledge\", dist.Bernoulli(0.3))\n",
    "    is_knowledgeable = \"knowledgeable\" if knowledge.item() == 1.0 else \"not knowledg.\"\n",
    "\n",
    "    mu = 4 * knowledge - 2 * difficulty + 4\n",
    "    grade = pyro.sample(\"grade\", dist.Normal(loc=mu, scale=1), obs=obs) # HERE!\n",
    "\n",
    "    print(f\"{is_hard} exam + {is_knowledgeable} student -> grade = {grade}\")\n",
    "\n",
    "describe_grade()"
   ]
  },
  {
   "cell_type": "code",
   "execution_count": 37,
   "metadata": {},
   "outputs": [
    {
     "name": "stdout",
     "output_type": "stream",
     "text": [
      "hard exam + knowledgeable student -> grade = 5.8415141105651855\n"
     ]
    },
    {
     "data": {
      "image/svg+xml": [
       "<?xml version=\"1.0\" encoding=\"UTF-8\" standalone=\"no\"?>\n",
       "<!DOCTYPE svg PUBLIC \"-//W3C//DTD SVG 1.1//EN\"\n",
       " \"http://www.w3.org/Graphics/SVG/1.1/DTD/svg11.dtd\">\n",
       "<!-- Generated by graphviz version 9.0.0 (20231125.0833)\n",
       " -->\n",
       "<!-- Pages: 1 -->\n",
       "<svg width=\"232pt\" height=\"116pt\"\n",
       " viewBox=\"0.00 0.00 231.94 116.00\" xmlns=\"http://www.w3.org/2000/svg\" xmlns:xlink=\"http://www.w3.org/1999/xlink\">\n",
       "<g id=\"graph0\" class=\"graph\" transform=\"scale(1 1) rotate(0) translate(4 112)\">\n",
       "<polygon fill=\"white\" stroke=\"none\" points=\"-4,4 -4,-112 227.94,-112 227.94,4 -4,4\"/>\n",
       "<!-- exam -->\n",
       "<g id=\"node1\" class=\"node\">\n",
       "<title>exam</title>\n",
       "<ellipse fill=\"white\" stroke=\"black\" cx=\"38.06\" cy=\"-90\" rx=\"38.06\" ry=\"18\"/>\n",
       "<text text-anchor=\"middle\" x=\"38.06\" y=\"-85.33\" font-family=\"Times,serif\" font-size=\"14.00\">exam</text>\n",
       "</g>\n",
       "<!-- grade -->\n",
       "<g id=\"node3\" class=\"node\">\n",
       "<title>grade</title>\n",
       "<ellipse fill=\"white\" stroke=\"black\" cx=\"98.06\" cy=\"-18\" rx=\"40.16\" ry=\"18\"/>\n",
       "<text text-anchor=\"middle\" x=\"98.06\" y=\"-13.32\" font-family=\"Times,serif\" font-size=\"14.00\">grade</text>\n",
       "</g>\n",
       "<!-- exam&#45;&gt;grade -->\n",
       "<g id=\"edge1\" class=\"edge\">\n",
       "<title>exam&#45;&gt;grade</title>\n",
       "<path fill=\"none\" stroke=\"black\" d=\"M51.97,-72.76C59.39,-64.11 68.68,-53.27 76.97,-43.6\"/>\n",
       "<polygon fill=\"black\" stroke=\"black\" points=\"79.38,-46.17 83.23,-36.3 74.06,-41.61 79.38,-46.17\"/>\n",
       "</g>\n",
       "<!-- knowledge -->\n",
       "<g id=\"node2\" class=\"node\">\n",
       "<title>knowledge</title>\n",
       "<ellipse fill=\"white\" stroke=\"black\" cx=\"159.06\" cy=\"-90\" rx=\"64.89\" ry=\"18\"/>\n",
       "<text text-anchor=\"middle\" x=\"159.06\" y=\"-85.33\" font-family=\"Times,serif\" font-size=\"14.00\">knowledge</text>\n",
       "</g>\n",
       "<!-- knowledge&#45;&gt;grade -->\n",
       "<g id=\"edge2\" class=\"edge\">\n",
       "<title>knowledge&#45;&gt;grade</title>\n",
       "<path fill=\"none\" stroke=\"black\" d=\"M144.29,-72.05C136.91,-63.59 127.85,-53.19 119.71,-43.84\"/>\n",
       "<polygon fill=\"black\" stroke=\"black\" points=\"122.47,-41.69 113.26,-36.45 117.19,-46.29 122.47,-41.69\"/>\n",
       "</g>\n",
       "</g>\n",
       "</svg>\n"
      ],
      "text/plain": [
       "<graphviz.graphs.Digraph at 0x7fcc34991a50>"
      ]
     },
     "execution_count": 37,
     "metadata": {},
     "output_type": "execute_result"
    }
   ],
   "source": [
    "pyro.render_model(describe_grade) #obs is None by default"
   ]
  },
  {
   "cell_type": "code",
   "execution_count": 48,
   "metadata": {},
   "outputs": [
    {
     "name": "stdout",
     "output_type": "stream",
     "text": [
      "easy exam + not knowledg. student -> grade = 10.0\n"
     ]
    },
    {
     "data": {
      "image/svg+xml": [
       "<?xml version=\"1.0\" encoding=\"UTF-8\" standalone=\"no\"?>\n",
       "<!DOCTYPE svg PUBLIC \"-//W3C//DTD SVG 1.1//EN\"\n",
       " \"http://www.w3.org/Graphics/SVG/1.1/DTD/svg11.dtd\">\n",
       "<!-- Generated by graphviz version 9.0.0 (20231125.0833)\n",
       " -->\n",
       "<!-- Pages: 1 -->\n",
       "<svg width=\"232pt\" height=\"116pt\"\n",
       " viewBox=\"0.00 0.00 231.94 116.00\" xmlns=\"http://www.w3.org/2000/svg\" xmlns:xlink=\"http://www.w3.org/1999/xlink\">\n",
       "<g id=\"graph0\" class=\"graph\" transform=\"scale(1 1) rotate(0) translate(4 112)\">\n",
       "<polygon fill=\"white\" stroke=\"none\" points=\"-4,4 -4,-112 227.94,-112 227.94,4 -4,4\"/>\n",
       "<!-- exam -->\n",
       "<g id=\"node1\" class=\"node\">\n",
       "<title>exam</title>\n",
       "<ellipse fill=\"white\" stroke=\"black\" cx=\"38.06\" cy=\"-90\" rx=\"38.06\" ry=\"18\"/>\n",
       "<text text-anchor=\"middle\" x=\"38.06\" y=\"-85.33\" font-family=\"Times,serif\" font-size=\"14.00\">exam</text>\n",
       "</g>\n",
       "<!-- grade -->\n",
       "<g id=\"node3\" class=\"node\">\n",
       "<title>grade</title>\n",
       "<ellipse fill=\"gray\" stroke=\"black\" cx=\"98.06\" cy=\"-18\" rx=\"40.16\" ry=\"18\"/>\n",
       "<text text-anchor=\"middle\" x=\"98.06\" y=\"-13.32\" font-family=\"Times,serif\" font-size=\"14.00\">grade</text>\n",
       "</g>\n",
       "<!-- exam&#45;&gt;grade -->\n",
       "<g id=\"edge1\" class=\"edge\">\n",
       "<title>exam&#45;&gt;grade</title>\n",
       "<path fill=\"none\" stroke=\"black\" d=\"M51.97,-72.76C59.39,-64.11 68.68,-53.27 76.97,-43.6\"/>\n",
       "<polygon fill=\"black\" stroke=\"black\" points=\"79.38,-46.17 83.23,-36.3 74.06,-41.61 79.38,-46.17\"/>\n",
       "</g>\n",
       "<!-- knowledge -->\n",
       "<g id=\"node2\" class=\"node\">\n",
       "<title>knowledge</title>\n",
       "<ellipse fill=\"white\" stroke=\"black\" cx=\"159.06\" cy=\"-90\" rx=\"64.89\" ry=\"18\"/>\n",
       "<text text-anchor=\"middle\" x=\"159.06\" y=\"-85.33\" font-family=\"Times,serif\" font-size=\"14.00\">knowledge</text>\n",
       "</g>\n",
       "<!-- knowledge&#45;&gt;grade -->\n",
       "<g id=\"edge2\" class=\"edge\">\n",
       "<title>knowledge&#45;&gt;grade</title>\n",
       "<path fill=\"none\" stroke=\"black\" d=\"M144.29,-72.05C136.91,-63.59 127.85,-53.19 119.71,-43.84\"/>\n",
       "<polygon fill=\"black\" stroke=\"black\" points=\"122.47,-41.69 113.26,-36.45 117.19,-46.29 122.47,-41.69\"/>\n",
       "</g>\n",
       "</g>\n",
       "</svg>\n"
      ],
      "text/plain": [
       "<graphviz.graphs.Digraph at 0x7fcc346363d0>"
      ]
     },
     "execution_count": 48,
     "metadata": {},
     "output_type": "execute_result"
    }
   ],
   "source": [
    "pyro.render_model(describe_grade, model_args=(torch.tensor(10.0),))"
   ]
  },
  {
   "cell_type": "markdown",
   "metadata": {},
   "source": [
    "Sampling doesn't make sense anymore, since the value of the observed variable is fixed, but the other random variables don't change accordingly!"
   ]
  },
  {
   "cell_type": "code",
   "execution_count": 49,
   "metadata": {},
   "outputs": [
    {
     "name": "stdout",
     "output_type": "stream",
     "text": [
      "easy exam + not knowledg. student -> grade = 4.520711898803711\n"
     ]
    }
   ],
   "source": [
    "describe_grade(obs=None) # this is ok"
   ]
  },
  {
   "cell_type": "code",
   "execution_count": 50,
   "metadata": {},
   "outputs": [
    {
     "name": "stdout",
     "output_type": "stream",
     "text": [
      "easy exam + knowledgeable student -> grade = 60.0\n"
     ]
    },
    {
     "name": "stderr",
     "output_type": "stream",
     "text": [
      "/home/saracandussio/.conda/envs/stdenv/lib/python3.11/site-packages/pyro/primitives.py:163: RuntimeWarning: trying to observe a value outside of inference at grade\n",
      "  warnings.warn(\n"
     ]
    }
   ],
   "source": [
    "describe_grade(obs=torch.tensor(60.0)) # this is not ok, you can see the warning (max = 10)"
   ]
  },
  {
   "cell_type": "markdown",
   "metadata": {},
   "source": [
    "Observed values are mostly useful for **inference**, but here we show an example of likelihood computation exploiting observed values:"
   ]
  },
  {
   "cell_type": "code",
   "execution_count": 53,
   "metadata": {},
   "outputs": [],
   "source": [
    "def parametric_model(obs_x=None, obs_y=None):\n",
    "    x = pyro.sample(\"x\", dist.Bernoulli(0.2), obs=obs_x)\n",
    "    pyro.sample(\"y\", dist.Bernoulli(0.6*x), obs=obs_y)"
   ]
  },
  {
   "cell_type": "code",
   "execution_count": 54,
   "metadata": {},
   "outputs": [
    {
     "name": "stdout",
     "output_type": "stream",
     "text": [
      "p(x=0,y=0)=0.8\n",
      "p(x=0,y=1)=0.0\n",
      "p(x=1,y=0)=0.08\n",
      "p(x=1,y=1)=0.12\n"
     ]
    }
   ],
   "source": [
    "for x in (0.0, 1.0):\n",
    "    for y in (0.0, 1.0):\n",
    "        likelihood = round(compute_likelihood(parametric_model, torch.tensor(x), torch.tensor(y)),3)\n",
    "        print(f\"p(x={int(x)},y={int(y)})={likelihood}\")"
   ]
  },
  {
   "cell_type": "markdown",
   "metadata": {},
   "source": [
    "### Multiple samples"
   ]
  },
  {
   "cell_type": "markdown",
   "metadata": {},
   "source": [
    "Considering the exam-grad model, suppose that the exam is taken by several students and that we want to model this aspect.\n",
    "A simple way to do this is to sample the variables `knowledge` and `grade` many times using a loop:"
   ]
  },
  {
   "cell_type": "code",
   "execution_count": 55,
   "metadata": {},
   "outputs": [],
   "source": [
    "def describe_grade():\n",
    "    N = 10\n",
    "    difficulty = pyro.sample(\"exam\", dist.Bernoulli(0.5))\n",
    "    \n",
    "    grades = torch.zeros(N)\n",
    "    for i in range(N):\n",
    "        knowledge = pyro.sample(f\"knowledge_{i}\", dist.Bernoulli(0.3))\n",
    "        mu = 4 * knowledge - 2 * difficulty + 4\n",
    "        grades[i] = pyro.sample(f\"grade_{i}\", dist.Normal(loc=mu, scale=1))\n",
    "\n",
    "    return grades"
   ]
  },
  {
   "cell_type": "code",
   "execution_count": 58,
   "metadata": {},
   "outputs": [
    {
     "name": "stdout",
     "output_type": "stream",
     "text": [
      "grades:  tensor([0.6362, 4.7002, 1.2715, 0.7625, 2.4232, 2.0437, 4.6658, 2.1573, 2.8256,\n",
      "        5.8519])\n"
     ]
    }
   ],
   "source": [
    "print(\"grades: \", describe_grade())"
   ]
  },
  {
   "cell_type": "code",
   "execution_count": 59,
   "metadata": {},
   "outputs": [
    {
     "data": {
      "image/svg+xml": [
       "<?xml version=\"1.0\" encoding=\"UTF-8\" standalone=\"no\"?>\n",
       "<!DOCTYPE svg PUBLIC \"-//W3C//DTD SVG 1.1//EN\"\n",
       " \"http://www.w3.org/Graphics/SVG/1.1/DTD/svg11.dtd\">\n",
       "<!-- Generated by graphviz version 9.0.0 (20231125.0833)\n",
       " -->\n",
       "<!-- Pages: 1 -->\n",
       "<svg width=\"1784pt\" height=\"116pt\"\n",
       " viewBox=\"0.00 0.00 1783.87 116.00\" xmlns=\"http://www.w3.org/2000/svg\" xmlns:xlink=\"http://www.w3.org/1999/xlink\">\n",
       "<g id=\"graph0\" class=\"graph\" transform=\"scale(1 1) rotate(0) translate(4 112)\">\n",
       "<polygon fill=\"white\" stroke=\"none\" points=\"-4,4 -4,-112 1779.87,-112 1779.87,4 -4,4\"/>\n",
       "<!-- exam -->\n",
       "<g id=\"node1\" class=\"node\">\n",
       "<title>exam</title>\n",
       "<ellipse fill=\"white\" stroke=\"black\" cx=\"887.94\" cy=\"-90\" rx=\"38.06\" ry=\"18\"/>\n",
       "<text text-anchor=\"middle\" x=\"887.94\" y=\"-85.33\" font-family=\"Times,serif\" font-size=\"14.00\">exam</text>\n",
       "</g>\n",
       "<!-- grade_0 -->\n",
       "<g id=\"node3\" class=\"node\">\n",
       "<title>grade_0</title>\n",
       "<ellipse fill=\"white\" stroke=\"black\" cx=\"125.94\" cy=\"-18\" rx=\"51.21\" ry=\"18\"/>\n",
       "<text text-anchor=\"middle\" x=\"125.94\" y=\"-13.32\" font-family=\"Times,serif\" font-size=\"14.00\">grade_0</text>\n",
       "</g>\n",
       "<!-- exam&#45;&gt;grade_0 -->\n",
       "<g id=\"edge1\" class=\"edge\">\n",
       "<title>exam&#45;&gt;grade_0</title>\n",
       "<path fill=\"none\" stroke=\"black\" d=\"M859.98,-77.39C853.81,-75.25 847.23,-73.29 840.94,-72 566.18,-15.71 489.12,-71.59 210.94,-36 200.63,-34.68 189.7,-32.84 179.24,-30.85\"/>\n",
       "<polygon fill=\"black\" stroke=\"black\" points=\"180.09,-27.45 169.6,-28.94 178.73,-34.32 180.09,-27.45\"/>\n",
       "</g>\n",
       "<!-- grade_1 -->\n",
       "<g id=\"node5\" class=\"node\">\n",
       "<title>grade_1</title>\n",
       "<ellipse fill=\"white\" stroke=\"black\" cx=\"270.94\" cy=\"-18\" rx=\"51.21\" ry=\"18\"/>\n",
       "<text text-anchor=\"middle\" x=\"270.94\" y=\"-13.32\" font-family=\"Times,serif\" font-size=\"14.00\">grade_1</text>\n",
       "</g>\n",
       "<!-- exam&#45;&gt;grade_1 -->\n",
       "<g id=\"edge3\" class=\"edge\">\n",
       "<title>exam&#45;&gt;grade_1</title>\n",
       "<path fill=\"none\" stroke=\"black\" d=\"M859.96,-77.49C853.79,-75.35 847.21,-73.35 840.94,-72 640.48,-28.73 584.63,-59.68 380.94,-36 363.46,-33.97 344.5,-31.23 327.32,-28.55\"/>\n",
       "<polygon fill=\"black\" stroke=\"black\" points=\"328.24,-25.15 317.82,-27.04 327.14,-32.06 328.24,-25.15\"/>\n",
       "</g>\n",
       "<!-- grade_2 -->\n",
       "<g id=\"node7\" class=\"node\">\n",
       "<title>grade_2</title>\n",
       "<ellipse fill=\"white\" stroke=\"black\" cx=\"440.94\" cy=\"-18\" rx=\"51.21\" ry=\"18\"/>\n",
       "<text text-anchor=\"middle\" x=\"440.94\" y=\"-13.32\" font-family=\"Times,serif\" font-size=\"14.00\">grade_2</text>\n",
       "</g>\n",
       "<!-- exam&#45;&gt;grade_2 -->\n",
       "<g id=\"edge5\" class=\"edge\">\n",
       "<title>exam&#45;&gt;grade_2</title>\n",
       "<path fill=\"none\" stroke=\"black\" d=\"M859.91,-77.71C853.74,-75.55 847.18,-73.5 840.94,-72 714.64,-41.72 679.57,-53.92 550.94,-36 533.67,-33.59 514.9,-30.77 497.85,-28.13\"/>\n",
       "<polygon fill=\"black\" stroke=\"black\" points=\"498.83,-24.74 488.41,-26.65 497.75,-31.65 498.83,-24.74\"/>\n",
       "</g>\n",
       "<!-- grade_3 -->\n",
       "<g id=\"node9\" class=\"node\">\n",
       "<title>grade_3</title>\n",
       "<ellipse fill=\"white\" stroke=\"black\" cx=\"610.94\" cy=\"-18\" rx=\"51.21\" ry=\"18\"/>\n",
       "<text text-anchor=\"middle\" x=\"610.94\" y=\"-13.32\" font-family=\"Times,serif\" font-size=\"14.00\">grade_3</text>\n",
       "</g>\n",
       "<!-- exam&#45;&gt;grade_3 -->\n",
       "<g id=\"edge7\" class=\"edge\">\n",
       "<title>exam&#45;&gt;grade_3</title>\n",
       "<path fill=\"none\" stroke=\"black\" d=\"M859.03,-77.93C853.09,-75.83 846.84,-73.74 840.94,-72 781.93,-54.6 713.04,-39.38 666.14,-29.77\"/>\n",
       "<polygon fill=\"black\" stroke=\"black\" points=\"666.99,-26.37 656.49,-27.81 665.59,-33.23 666.99,-26.37\"/>\n",
       "</g>\n",
       "<!-- grade_4 -->\n",
       "<g id=\"node11\" class=\"node\">\n",
       "<title>grade_4</title>\n",
       "<ellipse fill=\"white\" stroke=\"black\" cx=\"775.94\" cy=\"-18\" rx=\"51.21\" ry=\"18\"/>\n",
       "<text text-anchor=\"middle\" x=\"775.94\" y=\"-13.32\" font-family=\"Times,serif\" font-size=\"14.00\">grade_4</text>\n",
       "</g>\n",
       "<!-- exam&#45;&gt;grade_4 -->\n",
       "<g id=\"edge9\" class=\"edge\">\n",
       "<title>exam&#45;&gt;grade_4</title>\n",
       "<path fill=\"none\" stroke=\"black\" d=\"M865.54,-75C849.6,-65.04 827.89,-51.47 809.83,-40.18\"/>\n",
       "<polygon fill=\"black\" stroke=\"black\" points=\"811.85,-37.32 801.52,-34.99 808.14,-43.26 811.85,-37.32\"/>\n",
       "</g>\n",
       "<!-- grade_5 -->\n",
       "<g id=\"node13\" class=\"node\">\n",
       "<title>grade_5</title>\n",
       "<ellipse fill=\"white\" stroke=\"black\" cx=\"915.94\" cy=\"-18\" rx=\"51.21\" ry=\"18\"/>\n",
       "<text text-anchor=\"middle\" x=\"915.94\" y=\"-13.32\" font-family=\"Times,serif\" font-size=\"14.00\">grade_5</text>\n",
       "</g>\n",
       "<!-- exam&#45;&gt;grade_5 -->\n",
       "<g id=\"edge11\" class=\"edge\">\n",
       "<title>exam&#45;&gt;grade_5</title>\n",
       "<path fill=\"none\" stroke=\"black\" d=\"M894.71,-72.05C897.73,-64.52 901.36,-55.44 904.76,-46.94\"/>\n",
       "<polygon fill=\"black\" stroke=\"black\" points=\"908,-48.27 908.46,-37.68 901.5,-45.67 908,-48.27\"/>\n",
       "</g>\n",
       "<!-- grade_6 -->\n",
       "<g id=\"node15\" class=\"node\">\n",
       "<title>grade_6</title>\n",
       "<ellipse fill=\"white\" stroke=\"black\" cx=\"1126.94\" cy=\"-18\" rx=\"51.21\" ry=\"18\"/>\n",
       "<text text-anchor=\"middle\" x=\"1126.94\" y=\"-13.32\" font-family=\"Times,serif\" font-size=\"14.00\">grade_6</text>\n",
       "</g>\n",
       "<!-- exam&#45;&gt;grade_6 -->\n",
       "<g id=\"edge13\" class=\"edge\">\n",
       "<title>exam&#45;&gt;grade_6</title>\n",
       "<path fill=\"none\" stroke=\"black\" d=\"M917.15,-78.04C923.01,-75.95 929.15,-73.84 934.94,-72 982.02,-57.01 1036.36,-42.24 1075.19,-32.12\"/>\n",
       "<polygon fill=\"black\" stroke=\"black\" points=\"1075.95,-35.54 1084.75,-29.64 1074.19,-28.76 1075.95,-35.54\"/>\n",
       "</g>\n",
       "<!-- grade_7 -->\n",
       "<g id=\"node17\" class=\"node\">\n",
       "<title>grade_7</title>\n",
       "<ellipse fill=\"white\" stroke=\"black\" cx=\"1316.94\" cy=\"-18\" rx=\"51.21\" ry=\"18\"/>\n",
       "<text text-anchor=\"middle\" x=\"1316.94\" y=\"-13.32\" font-family=\"Times,serif\" font-size=\"14.00\">grade_7</text>\n",
       "</g>\n",
       "<!-- exam&#45;&gt;grade_7 -->\n",
       "<g id=\"edge15\" class=\"edge\">\n",
       "<title>exam&#45;&gt;grade_7</title>\n",
       "<path fill=\"none\" stroke=\"black\" d=\"M916.47,-77.6C922.5,-75.5 928.87,-73.5 934.94,-72 950.44,-68.17 1155.13,-40.59 1258.31,-26.81\"/>\n",
       "<polygon fill=\"black\" stroke=\"black\" points=\"1258.52,-30.31 1267.97,-25.52 1257.6,-23.37 1258.52,-30.31\"/>\n",
       "</g>\n",
       "<!-- grade_8 -->\n",
       "<g id=\"node19\" class=\"node\">\n",
       "<title>grade_8</title>\n",
       "<ellipse fill=\"white\" stroke=\"black\" cx=\"1496.94\" cy=\"-18\" rx=\"51.21\" ry=\"18\"/>\n",
       "<text text-anchor=\"middle\" x=\"1496.94\" y=\"-13.32\" font-family=\"Times,serif\" font-size=\"14.00\">grade_8</text>\n",
       "</g>\n",
       "<!-- exam&#45;&gt;grade_8 -->\n",
       "<g id=\"edge17\" class=\"edge\">\n",
       "<title>exam&#45;&gt;grade_8</title>\n",
       "<path fill=\"none\" stroke=\"black\" d=\"M915.91,-77.51C922.09,-75.36 928.66,-73.36 934.94,-72 1127.53,-30.11 1181.05,-57.83 1376.94,-36 1397.39,-33.72 1419.73,-30.7 1439.53,-27.84\"/>\n",
       "<polygon fill=\"black\" stroke=\"black\" points=\"1439.97,-31.31 1449.36,-26.4 1438.96,-24.39 1439.97,-31.31\"/>\n",
       "</g>\n",
       "<!-- grade_9 -->\n",
       "<g id=\"node21\" class=\"node\">\n",
       "<title>grade_9</title>\n",
       "<ellipse fill=\"white\" stroke=\"black\" cx=\"1671.94\" cy=\"-18\" rx=\"51.21\" ry=\"18\"/>\n",
       "<text text-anchor=\"middle\" x=\"1671.94\" y=\"-13.32\" font-family=\"Times,serif\" font-size=\"14.00\">grade_9</text>\n",
       "</g>\n",
       "<!-- exam&#45;&gt;grade_9 -->\n",
       "<g id=\"edge19\" class=\"edge\">\n",
       "<title>exam&#45;&gt;grade_9</title>\n",
       "<path fill=\"none\" stroke=\"black\" d=\"M915.89,-77.4C922.06,-75.26 928.65,-73.29 934.94,-72 1206.19,-16.33 1281.48,-64.27 1556.94,-36 1575.97,-34.05 1596.68,-31.21 1615.22,-28.41\"/>\n",
       "<polygon fill=\"black\" stroke=\"black\" points=\"1615.6,-31.89 1624.95,-26.91 1614.53,-24.97 1615.6,-31.89\"/>\n",
       "</g>\n",
       "<!-- knowledge_0 -->\n",
       "<g id=\"node2\" class=\"node\">\n",
       "<title>knowledge_0</title>\n",
       "<ellipse fill=\"white\" stroke=\"black\" cx=\"75.94\" cy=\"-90\" rx=\"75.94\" ry=\"18\"/>\n",
       "<text text-anchor=\"middle\" x=\"75.94\" y=\"-85.33\" font-family=\"Times,serif\" font-size=\"14.00\">knowledge_0</text>\n",
       "</g>\n",
       "<!-- knowledge_0&#45;&gt;grade_0 -->\n",
       "<g id=\"edge2\" class=\"edge\">\n",
       "<title>knowledge_0&#45;&gt;grade_0</title>\n",
       "<path fill=\"none\" stroke=\"black\" d=\"M88.04,-72.05C93.81,-63.97 100.85,-54.12 107.28,-45.11\"/>\n",
       "<polygon fill=\"black\" stroke=\"black\" points=\"110.1,-47.19 113.06,-37.02 104.4,-43.12 110.1,-47.19\"/>\n",
       "</g>\n",
       "<!-- knowledge_1 -->\n",
       "<g id=\"node4\" class=\"node\">\n",
       "<title>knowledge_1</title>\n",
       "<ellipse fill=\"white\" stroke=\"black\" cx=\"245.94\" cy=\"-90\" rx=\"75.94\" ry=\"18\"/>\n",
       "<text text-anchor=\"middle\" x=\"245.94\" y=\"-85.33\" font-family=\"Times,serif\" font-size=\"14.00\">knowledge_1</text>\n",
       "</g>\n",
       "<!-- knowledge_1&#45;&gt;grade_1 -->\n",
       "<g id=\"edge4\" class=\"edge\">\n",
       "<title>knowledge_1&#45;&gt;grade_1</title>\n",
       "<path fill=\"none\" stroke=\"black\" d=\"M252.11,-71.7C254.81,-64.15 258.04,-55.12 261.05,-46.68\"/>\n",
       "<polygon fill=\"black\" stroke=\"black\" points=\"264.25,-48.12 264.32,-37.53 257.66,-45.77 264.25,-48.12\"/>\n",
       "</g>\n",
       "<!-- knowledge_2 -->\n",
       "<g id=\"node6\" class=\"node\">\n",
       "<title>knowledge_2</title>\n",
       "<ellipse fill=\"white\" stroke=\"black\" cx=\"415.94\" cy=\"-90\" rx=\"75.94\" ry=\"18\"/>\n",
       "<text text-anchor=\"middle\" x=\"415.94\" y=\"-85.33\" font-family=\"Times,serif\" font-size=\"14.00\">knowledge_2</text>\n",
       "</g>\n",
       "<!-- knowledge_2&#45;&gt;grade_2 -->\n",
       "<g id=\"edge6\" class=\"edge\">\n",
       "<title>knowledge_2&#45;&gt;grade_2</title>\n",
       "<path fill=\"none\" stroke=\"black\" d=\"M422.11,-71.7C424.81,-64.15 428.04,-55.12 431.05,-46.68\"/>\n",
       "<polygon fill=\"black\" stroke=\"black\" points=\"434.25,-48.12 434.32,-37.53 427.66,-45.77 434.25,-48.12\"/>\n",
       "</g>\n",
       "<!-- knowledge_3 -->\n",
       "<g id=\"node8\" class=\"node\">\n",
       "<title>knowledge_3</title>\n",
       "<ellipse fill=\"white\" stroke=\"black\" cx=\"585.94\" cy=\"-90\" rx=\"75.94\" ry=\"18\"/>\n",
       "<text text-anchor=\"middle\" x=\"585.94\" y=\"-85.33\" font-family=\"Times,serif\" font-size=\"14.00\">knowledge_3</text>\n",
       "</g>\n",
       "<!-- knowledge_3&#45;&gt;grade_3 -->\n",
       "<g id=\"edge8\" class=\"edge\">\n",
       "<title>knowledge_3&#45;&gt;grade_3</title>\n",
       "<path fill=\"none\" stroke=\"black\" d=\"M592.11,-71.7C594.81,-64.15 598.04,-55.12 601.05,-46.68\"/>\n",
       "<polygon fill=\"black\" stroke=\"black\" points=\"604.25,-48.12 604.32,-37.53 597.66,-45.77 604.25,-48.12\"/>\n",
       "</g>\n",
       "<!-- knowledge_4 -->\n",
       "<g id=\"node10\" class=\"node\">\n",
       "<title>knowledge_4</title>\n",
       "<ellipse fill=\"white\" stroke=\"black\" cx=\"755.94\" cy=\"-90\" rx=\"75.94\" ry=\"18\"/>\n",
       "<text text-anchor=\"middle\" x=\"755.94\" y=\"-85.33\" font-family=\"Times,serif\" font-size=\"14.00\">knowledge_4</text>\n",
       "</g>\n",
       "<!-- knowledge_4&#45;&gt;grade_4 -->\n",
       "<g id=\"edge10\" class=\"edge\">\n",
       "<title>knowledge_4&#45;&gt;grade_4</title>\n",
       "<path fill=\"none\" stroke=\"black\" d=\"M760.88,-71.7C763.01,-64.24 765.56,-55.32 767.95,-46.97\"/>\n",
       "<polygon fill=\"black\" stroke=\"black\" points=\"771.25,-48.14 770.63,-37.56 764.52,-46.21 771.25,-48.14\"/>\n",
       "</g>\n",
       "<!-- knowledge_5 -->\n",
       "<g id=\"node12\" class=\"node\">\n",
       "<title>knowledge_5</title>\n",
       "<ellipse fill=\"white\" stroke=\"black\" cx=\"1019.94\" cy=\"-90\" rx=\"75.94\" ry=\"18\"/>\n",
       "<text text-anchor=\"middle\" x=\"1019.94\" y=\"-85.33\" font-family=\"Times,serif\" font-size=\"14.00\">knowledge_5</text>\n",
       "</g>\n",
       "<!-- knowledge_5&#45;&gt;grade_5 -->\n",
       "<g id=\"edge12\" class=\"edge\">\n",
       "<title>knowledge_5&#45;&gt;grade_5</title>\n",
       "<path fill=\"none\" stroke=\"black\" d=\"M995.55,-72.59C981.33,-63.02 963.23,-50.83 947.88,-40.5\"/>\n",
       "<polygon fill=\"black\" stroke=\"black\" points=\"950.25,-37.88 940,-35.2 946.34,-43.68 950.25,-37.88\"/>\n",
       "</g>\n",
       "<!-- knowledge_6 -->\n",
       "<g id=\"node14\" class=\"node\">\n",
       "<title>knowledge_6</title>\n",
       "<ellipse fill=\"white\" stroke=\"black\" cx=\"1189.94\" cy=\"-90\" rx=\"75.94\" ry=\"18\"/>\n",
       "<text text-anchor=\"middle\" x=\"1189.94\" y=\"-85.33\" font-family=\"Times,serif\" font-size=\"14.00\">knowledge_6</text>\n",
       "</g>\n",
       "<!-- knowledge_6&#45;&gt;grade_6 -->\n",
       "<g id=\"edge14\" class=\"edge\">\n",
       "<title>knowledge_6&#45;&gt;grade_6</title>\n",
       "<path fill=\"none\" stroke=\"black\" d=\"M1174.68,-72.05C1167.07,-63.59 1157.71,-53.19 1149.3,-43.84\"/>\n",
       "<polygon fill=\"black\" stroke=\"black\" points=\"1151.92,-41.52 1142.62,-36.43 1146.71,-46.21 1151.92,-41.52\"/>\n",
       "</g>\n",
       "<!-- knowledge_7 -->\n",
       "<g id=\"node16\" class=\"node\">\n",
       "<title>knowledge_7</title>\n",
       "<ellipse fill=\"white\" stroke=\"black\" cx=\"1359.94\" cy=\"-90\" rx=\"75.94\" ry=\"18\"/>\n",
       "<text text-anchor=\"middle\" x=\"1359.94\" y=\"-85.33\" font-family=\"Times,serif\" font-size=\"14.00\">knowledge_7</text>\n",
       "</g>\n",
       "<!-- knowledge_7&#45;&gt;grade_7 -->\n",
       "<g id=\"edge16\" class=\"edge\">\n",
       "<title>knowledge_7&#45;&gt;grade_7</title>\n",
       "<path fill=\"none\" stroke=\"black\" d=\"M1349.31,-71.7C1344.52,-63.9 1338.75,-54.51 1333.42,-45.83\"/>\n",
       "<polygon fill=\"black\" stroke=\"black\" points=\"1336.45,-44.08 1328.23,-37.39 1330.49,-47.75 1336.45,-44.08\"/>\n",
       "</g>\n",
       "<!-- knowledge_8 -->\n",
       "<g id=\"node18\" class=\"node\">\n",
       "<title>knowledge_8</title>\n",
       "<ellipse fill=\"white\" stroke=\"black\" cx=\"1529.94\" cy=\"-90\" rx=\"75.94\" ry=\"18\"/>\n",
       "<text text-anchor=\"middle\" x=\"1529.94\" y=\"-85.33\" font-family=\"Times,serif\" font-size=\"14.00\">knowledge_8</text>\n",
       "</g>\n",
       "<!-- knowledge_8&#45;&gt;grade_8 -->\n",
       "<g id=\"edge18\" class=\"edge\">\n",
       "<title>knowledge_8&#45;&gt;grade_8</title>\n",
       "<path fill=\"none\" stroke=\"black\" d=\"M1521.78,-71.7C1518.18,-64.07 1513.87,-54.92 1509.85,-46.4\"/>\n",
       "<polygon fill=\"black\" stroke=\"black\" points=\"1513.07,-45.03 1505.64,-37.47 1506.74,-48.01 1513.07,-45.03\"/>\n",
       "</g>\n",
       "<!-- knowledge_9 -->\n",
       "<g id=\"node20\" class=\"node\">\n",
       "<title>knowledge_9</title>\n",
       "<ellipse fill=\"white\" stroke=\"black\" cx=\"1699.94\" cy=\"-90\" rx=\"75.94\" ry=\"18\"/>\n",
       "<text text-anchor=\"middle\" x=\"1699.94\" y=\"-85.33\" font-family=\"Times,serif\" font-size=\"14.00\">knowledge_9</text>\n",
       "</g>\n",
       "<!-- knowledge_9&#45;&gt;grade_9 -->\n",
       "<g id=\"edge20\" class=\"edge\">\n",
       "<title>knowledge_9&#45;&gt;grade_9</title>\n",
       "<path fill=\"none\" stroke=\"black\" d=\"M1693.01,-71.7C1690,-64.15 1686.38,-55.12 1683.01,-46.68\"/>\n",
       "<polygon fill=\"black\" stroke=\"black\" points=\"1686.3,-45.49 1679.34,-37.51 1679.8,-48.09 1686.3,-45.49\"/>\n",
       "</g>\n",
       "</g>\n",
       "</svg>\n"
      ],
      "text/plain": [
       "<graphviz.graphs.Digraph at 0x7fcc35173a10>"
      ]
     },
     "execution_count": 59,
     "metadata": {},
     "output_type": "execute_result"
    }
   ],
   "source": [
    "pyro.render_model(describe_grade)"
   ]
  },
  {
   "cell_type": "markdown",
   "metadata": {},
   "source": [
    "This can work when the number of conditionally independent repetitions is relatively small. Instead, when there are many repetitions, there is a more compact and efficient way to define this behavior: `pyro.plate`\n",
    "\n",
    "Everything that is defined inside the `pyro.plate` context manager, is automatically vectorized and conditionally independent:"
   ]
  },
  {
   "cell_type": "code",
   "execution_count": 60,
   "metadata": {},
   "outputs": [],
   "source": [
    "def describe_grade_plate():\n",
    "    difficulty = pyro.sample(\"exam\", dist.Bernoulli(0.5))\n",
    "            \n",
    "    with pyro.plate(\"N\", 10):\n",
    "        knowledge = pyro.sample(\"knowledge\", dist.Bernoulli(0.3))\n",
    "        mu = 4 * knowledge - 2 * difficulty + 4\n",
    "        grade = pyro.sample(f\"grade\", dist.Normal(loc=mu, scale=1))\n",
    "        \n",
    "    return grade"
   ]
  },
  {
   "cell_type": "code",
   "execution_count": 61,
   "metadata": {},
   "outputs": [
    {
     "data": {
      "image/svg+xml": [
       "<?xml version=\"1.0\" encoding=\"UTF-8\" standalone=\"no\"?>\n",
       "<!DOCTYPE svg PUBLIC \"-//W3C//DTD SVG 1.1//EN\"\n",
       " \"http://www.w3.org/Graphics/SVG/1.1/DTD/svg11.dtd\">\n",
       "<!-- Generated by graphviz version 9.0.0 (20231125.0833)\n",
       " -->\n",
       "<!-- Pages: 1 -->\n",
       "<svg width=\"248pt\" height=\"173pt\"\n",
       " viewBox=\"0.00 0.00 248.06 173.25\" xmlns=\"http://www.w3.org/2000/svg\" xmlns:xlink=\"http://www.w3.org/1999/xlink\">\n",
       "<g id=\"graph0\" class=\"graph\" transform=\"scale(1 1) rotate(0) translate(4 169.25)\">\n",
       "<polygon fill=\"white\" stroke=\"none\" points=\"-4,4 -4,-169.25 244.06,-169.25 244.06,4 -4,4\"/>\n",
       "<g id=\"clust1\" class=\"cluster\">\n",
       "<title>cluster_N</title>\n",
       "<polygon fill=\"none\" stroke=\"black\" points=\"86.06,-8 86.06,-157.25 232.06,-157.25 232.06,-8 86.06,-8\"/>\n",
       "<text text-anchor=\"middle\" x=\"218.06\" y=\"-15.95\" font-family=\"Times,serif\" font-size=\"14.00\">N</text>\n",
       "</g>\n",
       "<!-- exam -->\n",
       "<g id=\"node1\" class=\"node\">\n",
       "<title>exam</title>\n",
       "<ellipse fill=\"white\" stroke=\"black\" cx=\"38.06\" cy=\"-131.25\" rx=\"38.06\" ry=\"18\"/>\n",
       "<text text-anchor=\"middle\" x=\"38.06\" y=\"-126.58\" font-family=\"Times,serif\" font-size=\"14.00\">exam</text>\n",
       "</g>\n",
       "<!-- grade -->\n",
       "<g id=\"node3\" class=\"node\">\n",
       "<title>grade</title>\n",
       "<ellipse fill=\"white\" stroke=\"black\" cx=\"146.06\" cy=\"-59.25\" rx=\"40.16\" ry=\"18\"/>\n",
       "<text text-anchor=\"middle\" x=\"146.06\" y=\"-54.58\" font-family=\"Times,serif\" font-size=\"14.00\">grade</text>\n",
       "</g>\n",
       "<!-- exam&#45;&gt;grade -->\n",
       "<g id=\"edge1\" class=\"edge\">\n",
       "<title>exam&#45;&gt;grade</title>\n",
       "<path fill=\"none\" stroke=\"black\" d=\"M59.91,-116.08C75.62,-105.9 97.03,-92.03 114.57,-80.66\"/>\n",
       "<polygon fill=\"black\" stroke=\"black\" points=\"116.1,-83.83 122.59,-75.46 112.3,-77.96 116.1,-83.83\"/>\n",
       "</g>\n",
       "<!-- knowledge -->\n",
       "<g id=\"node2\" class=\"node\">\n",
       "<title>knowledge</title>\n",
       "<ellipse fill=\"white\" stroke=\"black\" cx=\"159.06\" cy=\"-131.25\" rx=\"64.89\" ry=\"18\"/>\n",
       "<text text-anchor=\"middle\" x=\"159.06\" y=\"-126.58\" font-family=\"Times,serif\" font-size=\"14.00\">knowledge</text>\n",
       "</g>\n",
       "<!-- knowledge&#45;&gt;grade -->\n",
       "<g id=\"edge2\" class=\"edge\">\n",
       "<title>knowledge&#45;&gt;grade</title>\n",
       "<path fill=\"none\" stroke=\"black\" d=\"M155.84,-112.95C154.47,-105.57 152.84,-96.77 151.3,-88.5\"/>\n",
       "<polygon fill=\"black\" stroke=\"black\" points=\"154.78,-88.04 149.51,-78.84 147.89,-89.31 154.78,-88.04\"/>\n",
       "</g>\n",
       "</g>\n",
       "</svg>\n"
      ],
      "text/plain": [
       "<graphviz.graphs.Digraph at 0x7fcc3488df50>"
      ]
     },
     "execution_count": 61,
     "metadata": {},
     "output_type": "execute_result"
    }
   ],
   "source": [
    "pyro.render_model(describe_grade_plate)"
   ]
  },
  {
   "cell_type": "code",
   "execution_count": 62,
   "metadata": {},
   "outputs": [
    {
     "name": "stdout",
     "output_type": "stream",
     "text": [
      "grades:  tensor([2.3854, 2.6380, 5.3535, 2.9619, 1.7758, 7.3009, 7.2035, 3.2045, 3.8506,\n",
      "        5.9843])\n"
     ]
    }
   ],
   "source": [
    "print(\"grades: \", describe_grade_plate())"
   ]
  },
  {
   "cell_type": "markdown",
   "metadata": {},
   "source": [
    "Notice that the model is the same, but the graphical model uses the plate notation to represent conditionally independent variables.\n",
    "\n",
    "Here we show an example were the grades are observed (the problem here could be to infer the knowledge of each student or the difficulty of the exam):"
   ]
  },
  {
   "cell_type": "code",
   "execution_count": 63,
   "metadata": {},
   "outputs": [],
   "source": [
    "def describe_grade_plate(observed_grades):\n",
    "    difficulty = pyro.sample(\"exam\", dist.Bernoulli(0.5))\n",
    "            \n",
    "    with pyro.plate(\"N\", len(observed_grades)):\n",
    "        knowledge = pyro.sample(\"knowledge\", dist.Bernoulli(0.3))\n",
    "        mu = 4 * knowledge - 2 * difficulty + 4\n",
    "        grade = pyro.sample(f\"grade\", dist.Normal(loc=mu, scale=1), obs=observed_grades)\n",
    "        \n",
    "    return grade"
   ]
  },
  {
   "cell_type": "code",
   "execution_count": 65,
   "metadata": {},
   "outputs": [
    {
     "data": {
      "image/svg+xml": [
       "<?xml version=\"1.0\" encoding=\"UTF-8\" standalone=\"no\"?>\n",
       "<!DOCTYPE svg PUBLIC \"-//W3C//DTD SVG 1.1//EN\"\n",
       " \"http://www.w3.org/Graphics/SVG/1.1/DTD/svg11.dtd\">\n",
       "<!-- Generated by graphviz version 9.0.0 (20231125.0833)\n",
       " -->\n",
       "<!-- Pages: 1 -->\n",
       "<svg width=\"248pt\" height=\"173pt\"\n",
       " viewBox=\"0.00 0.00 248.06 173.25\" xmlns=\"http://www.w3.org/2000/svg\" xmlns:xlink=\"http://www.w3.org/1999/xlink\">\n",
       "<g id=\"graph0\" class=\"graph\" transform=\"scale(1 1) rotate(0) translate(4 169.25)\">\n",
       "<polygon fill=\"white\" stroke=\"none\" points=\"-4,4 -4,-169.25 244.06,-169.25 244.06,4 -4,4\"/>\n",
       "<g id=\"clust1\" class=\"cluster\">\n",
       "<title>cluster_N</title>\n",
       "<polygon fill=\"none\" stroke=\"black\" points=\"86.06,-8 86.06,-157.25 232.06,-157.25 232.06,-8 86.06,-8\"/>\n",
       "<text text-anchor=\"middle\" x=\"218.06\" y=\"-15.95\" font-family=\"Times,serif\" font-size=\"14.00\">N</text>\n",
       "</g>\n",
       "<!-- exam -->\n",
       "<g id=\"node1\" class=\"node\">\n",
       "<title>exam</title>\n",
       "<ellipse fill=\"white\" stroke=\"black\" cx=\"38.06\" cy=\"-131.25\" rx=\"38.06\" ry=\"18\"/>\n",
       "<text text-anchor=\"middle\" x=\"38.06\" y=\"-126.58\" font-family=\"Times,serif\" font-size=\"14.00\">exam</text>\n",
       "</g>\n",
       "<!-- grade -->\n",
       "<g id=\"node3\" class=\"node\">\n",
       "<title>grade</title>\n",
       "<ellipse fill=\"gray\" stroke=\"black\" cx=\"146.06\" cy=\"-59.25\" rx=\"40.16\" ry=\"18\"/>\n",
       "<text text-anchor=\"middle\" x=\"146.06\" y=\"-54.58\" font-family=\"Times,serif\" font-size=\"14.00\">grade</text>\n",
       "</g>\n",
       "<!-- exam&#45;&gt;grade -->\n",
       "<g id=\"edge1\" class=\"edge\">\n",
       "<title>exam&#45;&gt;grade</title>\n",
       "<path fill=\"none\" stroke=\"black\" d=\"M59.91,-116.08C75.62,-105.9 97.03,-92.03 114.57,-80.66\"/>\n",
       "<polygon fill=\"black\" stroke=\"black\" points=\"116.1,-83.83 122.59,-75.46 112.3,-77.96 116.1,-83.83\"/>\n",
       "</g>\n",
       "<!-- knowledge -->\n",
       "<g id=\"node2\" class=\"node\">\n",
       "<title>knowledge</title>\n",
       "<ellipse fill=\"white\" stroke=\"black\" cx=\"159.06\" cy=\"-131.25\" rx=\"64.89\" ry=\"18\"/>\n",
       "<text text-anchor=\"middle\" x=\"159.06\" y=\"-126.58\" font-family=\"Times,serif\" font-size=\"14.00\">knowledge</text>\n",
       "</g>\n",
       "<!-- knowledge&#45;&gt;grade -->\n",
       "<g id=\"edge2\" class=\"edge\">\n",
       "<title>knowledge&#45;&gt;grade</title>\n",
       "<path fill=\"none\" stroke=\"black\" d=\"M155.84,-112.95C154.47,-105.57 152.84,-96.77 151.3,-88.5\"/>\n",
       "<polygon fill=\"black\" stroke=\"black\" points=\"154.78,-88.04 149.51,-78.84 147.89,-89.31 154.78,-88.04\"/>\n",
       "</g>\n",
       "</g>\n",
       "</svg>\n"
      ],
      "text/plain": [
       "<graphviz.graphs.Digraph at 0x7fcc344c4110>"
      ]
     },
     "execution_count": 65,
     "metadata": {},
     "output_type": "execute_result"
    }
   ],
   "source": [
    "observed_grades = torch.tensor([5.0, 6.0, 7.0, 8.0, 9.0])\n",
    "\n",
    "pyro.render_model(describe_grade_plate, model_args=(observed_grades, ))"
   ]
  },
  {
   "cell_type": "markdown",
   "metadata": {},
   "source": [
    "There is also another option for dealing with multiple samples: sampling arrays."
   ]
  },
  {
   "cell_type": "code",
   "execution_count": 23,
   "metadata": {},
   "outputs": [
    {
     "name": "stdout",
     "output_type": "stream",
     "text": [
      "grades:  tensor([6.0917, 4.7967, 5.6562, 8.1806, 8.6317, 4.4353, 8.8433, 8.5904, 2.2256,\n",
      "        7.7272])\n"
     ]
    },
    {
     "data": {
      "image/svg+xml": [
       "<?xml version=\"1.0\" encoding=\"UTF-8\" standalone=\"no\"?>\n",
       "<!DOCTYPE svg PUBLIC \"-//W3C//DTD SVG 1.1//EN\"\n",
       " \"http://www.w3.org/Graphics/SVG/1.1/DTD/svg11.dtd\">\n",
       "<!-- Generated by graphviz version 2.43.0 (0)\n",
       " -->\n",
       "<!-- Title: %3 Pages: 1 -->\n",
       "<svg width=\"222pt\" height=\"116pt\"\n",
       " viewBox=\"0.00 0.00 222.14 116.00\" xmlns=\"http://www.w3.org/2000/svg\" xmlns:xlink=\"http://www.w3.org/1999/xlink\">\n",
       "<g id=\"graph0\" class=\"graph\" transform=\"scale(1 1) rotate(0) translate(4 112)\">\n",
       "<title>%3</title>\n",
       "<polygon fill=\"white\" stroke=\"transparent\" points=\"-4,4 -4,-112 218.14,-112 218.14,4 -4,4\"/>\n",
       "<!-- exam -->\n",
       "<g id=\"node1\" class=\"node\">\n",
       "<title>exam</title>\n",
       "<ellipse fill=\"white\" stroke=\"black\" cx=\"30.55\" cy=\"-90\" rx=\"30.59\" ry=\"18\"/>\n",
       "<text text-anchor=\"middle\" x=\"30.55\" y=\"-86.3\" font-family=\"Times,serif\" font-size=\"14.00\">exam</text>\n",
       "</g>\n",
       "<!-- grades(10) -->\n",
       "<g id=\"node3\" class=\"node\">\n",
       "<title>grades(10)</title>\n",
       "<ellipse fill=\"white\" stroke=\"black\" cx=\"88.55\" cy=\"-18\" rx=\"48.19\" ry=\"18\"/>\n",
       "<text text-anchor=\"middle\" x=\"88.55\" y=\"-14.3\" font-family=\"Times,serif\" font-size=\"14.00\">grades(10)</text>\n",
       "</g>\n",
       "<!-- exam&#45;&gt;grades(10) -->\n",
       "<g id=\"edge1\" class=\"edge\">\n",
       "<title>exam&#45;&gt;grades(10)</title>\n",
       "<path fill=\"none\" stroke=\"black\" d=\"M43.42,-73.46C50.72,-64.65 60.02,-53.43 68.28,-43.46\"/>\n",
       "<polygon fill=\"black\" stroke=\"black\" points=\"71.22,-45.4 74.9,-35.47 65.83,-40.93 71.22,-45.4\"/>\n",
       "</g>\n",
       "<!-- knowledges(10) -->\n",
       "<g id=\"node2\" class=\"node\">\n",
       "<title>knowledges(10)</title>\n",
       "<ellipse fill=\"white\" stroke=\"black\" cx=\"146.55\" cy=\"-90\" rx=\"67.69\" ry=\"18\"/>\n",
       "<text text-anchor=\"middle\" x=\"146.55\" y=\"-86.3\" font-family=\"Times,serif\" font-size=\"14.00\">knowledges(10)</text>\n",
       "</g>\n",
       "<!-- knowledges(10)&#45;&gt;grades(10) -->\n",
       "<g id=\"edge2\" class=\"edge\">\n",
       "<title>knowledges(10)&#45;&gt;grades(10)</title>\n",
       "<path fill=\"none\" stroke=\"black\" d=\"M132.51,-72.05C125.35,-63.42 116.52,-52.76 108.66,-43.27\"/>\n",
       "<polygon fill=\"black\" stroke=\"black\" points=\"111.13,-40.77 102.06,-35.31 105.74,-45.24 111.13,-40.77\"/>\n",
       "</g>\n",
       "</g>\n",
       "</svg>\n"
      ],
      "text/plain": [
       "<graphviz.graphs.Digraph at 0x7ac6a5a56d70>"
      ]
     },
     "execution_count": 23,
     "metadata": {},
     "output_type": "execute_result"
    }
   ],
   "source": [
    "def describe_grade_array(n: int):\n",
    "    difficulty = pyro.sample(\"exam\", dist.Bernoulli(0.5))\n",
    "    knowledge = pyro.sample(f\"knowledges({n})\", dist.Bernoulli(0.3), sample_shape=(n,))\n",
    "    mu = 4 * knowledge - 2 * difficulty + 4\n",
    "    grade = pyro.sample(f\"grades({n})\", dist.Normal(loc=mu, scale=1))\n",
    "        \n",
    "    return grade\n",
    "\n",
    "print(\"grades: \", describe_grade_array(10))\n",
    "    \n",
    "pyro.render_model(describe_grade_array, model_args=(10, ))"
   ]
  },
  {
   "cell_type": "markdown",
   "metadata": {},
   "source": [
    "But the graphical model is not really transparent! This graph doesn't contain the information that each couple (knowledge, grade) is conditionally independent from others.\n",
    "\n",
    "Anyway, we can use the plate or arrays allows to sample in a more efficiet way:"
   ]
  },
  {
   "cell_type": "code",
   "execution_count": 24,
   "metadata": {},
   "outputs": [
    {
     "data": {
      "image/png": "[encoded data removed]",
      "text/plain": [
       "<Figure size 432x288 with 1 Axes>"
      ]
     },
     "metadata": {
      "needs_background": "light"
     },
     "output_type": "display_data"
    }
   ],
   "source": [
    "def describe_grade_array(n: int):\n",
    "    difficulty = pyro.sample(\"exam\", dist.Bernoulli(0.5), sample_shape=(n,))\n",
    "    knowledge = pyro.sample(f\"knowledges({n})\", dist.Bernoulli(0.3), sample_shape=(n,))\n",
    "    mu = 4 * knowledge - 2 * difficulty + 4\n",
    "    grade = pyro.sample(f\"grades({n})\", dist.Normal(loc=mu, scale=1))\n",
    "        \n",
    "    return grade\n",
    "\n",
    "grades = describe_grade_array(10000)\n",
    "_ = sns.histplot(grades, kde=True)"
   ]
  },
  {
   "cell_type": "markdown",
   "metadata": {},
   "source": [
    "### Parameters"
   ]
  },
  {
   "cell_type": "markdown",
   "metadata": {},
   "source": [
    "Pyro supports also the definition of (named) parameters, that sometimes appear when defining a model.\n",
    "For example, they are used when defining a prametric model and we are interested in fitting it to observed data by maximum likelihood estimation (MLE). However, these are not used when following a purely probabilistic (bayesian) approach. "
   ]
  },
  {
   "cell_type": "code",
   "execution_count": 25,
   "metadata": {},
   "outputs": [
    {
     "data": {
      "image/svg+xml": [
       "<?xml version=\"1.0\" encoding=\"UTF-8\" standalone=\"no\"?>\n",
       "<!DOCTYPE svg PUBLIC \"-//W3C//DTD SVG 1.1//EN\"\n",
       " \"http://www.w3.org/Graphics/SVG/1.1/DTD/svg11.dtd\">\n",
       "<!-- Generated by graphviz version 2.43.0 (0)\n",
       " -->\n",
       "<!-- Title: %3 Pages: 1 -->\n",
       "<svg width=\"94pt\" height=\"134pt\"\n",
       " viewBox=\"0.00 0.00 94.00 134.00\" xmlns=\"http://www.w3.org/2000/svg\" xmlns:xlink=\"http://www.w3.org/1999/xlink\">\n",
       "<g id=\"graph0\" class=\"graph\" transform=\"scale(1 1) rotate(0) translate(4 130)\">\n",
       "<title>%3</title>\n",
       "<polygon fill=\"white\" stroke=\"transparent\" points=\"-4,4 -4,-130 90,-130 90,4 -4,4\"/>\n",
       "<g id=\"clust1\" class=\"cluster\">\n",
       "<title>cluster_N</title>\n",
       "<polygon fill=\"none\" stroke=\"black\" points=\"8,-8 8,-83 78,-83 78,-8 8,-8\"/>\n",
       "<text text-anchor=\"middle\" x=\"65\" y=\"-15.8\" font-family=\"Times,serif\" font-size=\"14.00\">N</text>\n",
       "</g>\n",
       "<!-- p -->\n",
       "<g id=\"node1\" class=\"node\">\n",
       "<title>p</title>\n",
       "<polygon fill=\"white\" stroke=\"transparent\" points=\"46.5,-126 39.5,-126 39.5,-111 46.5,-111 46.5,-126\"/>\n",
       "<text text-anchor=\"middle\" x=\"43\" y=\"-114.8\" font-family=\"Times,serif\" font-size=\"14.00\">p</text>\n",
       "</g>\n",
       "<!-- x -->\n",
       "<g id=\"node2\" class=\"node\">\n",
       "<title>x</title>\n",
       "<ellipse fill=\"gray\" stroke=\"black\" cx=\"43\" cy=\"-57\" rx=\"27\" ry=\"18\"/>\n",
       "<text text-anchor=\"middle\" x=\"43\" y=\"-53.3\" font-family=\"Times,serif\" font-size=\"14.00\">x</text>\n",
       "</g>\n",
       "<!-- p&#45;&gt;x -->\n",
       "<g id=\"edge1\" class=\"edge\">\n",
       "<title>p&#45;&gt;x</title>\n",
       "<path fill=\"none\" stroke=\"black\" d=\"M43,-110.67C43,-104.42 43,-94.74 43,-85.37\"/>\n",
       "<polygon fill=\"black\" stroke=\"black\" points=\"46.5,-85.13 43,-75.13 39.5,-85.13 46.5,-85.13\"/>\n",
       "</g>\n",
       "</g>\n",
       "</svg>\n"
      ],
      "text/plain": [
       "<graphviz.graphs.Digraph at 0x7ac6a9b0d240>"
      ]
     },
     "execution_count": 25,
     "metadata": {},
     "output_type": "execute_result"
    }
   ],
   "source": [
    "import pyro.distributions.constraints as constraints\n",
    "\n",
    "def parametric_model(obs):\n",
    "    p = pyro.param(name='p',\n",
    "                   init_tensor=torch.tensor(0.5),\n",
    "                   constraint=constraints.unit_interval)\n",
    "    with pyro.plate(\"N\"):\n",
    "        x = pyro.sample(\"x\", dist.Bernoulli(p), obs = obs, constraint = constraints.unit_interval)\n",
    "    return x\n",
    "\n",
    "obs = torch.tensor([0,0,0,0,0,1,1,1,0,1,0,0,0,0,0,0,1]).float()\n",
    "pyro.render_model(parametric_model, render_params=True, model_args=(obs,))"
   ]
  },
  {
   "cell_type": "markdown",
   "metadata": {},
   "source": [
    "Notice that we can specify the bounds of a parameter: `constraint=constraints.unit_interval`. This information will be exploited during optimization."
   ]
  },
  {
   "cell_type": "markdown",
   "metadata": {},
   "source": [
    "### A funny behavior..."
   ]
  },
  {
   "cell_type": "code",
   "execution_count": 66,
   "metadata": {},
   "outputs": [
    {
     "data": {
      "image/svg+xml": [
       "<?xml version=\"1.0\" encoding=\"UTF-8\" standalone=\"no\"?>\n",
       "<!DOCTYPE svg PUBLIC \"-//W3C//DTD SVG 1.1//EN\"\n",
       " \"http://www.w3.org/Graphics/SVG/1.1/DTD/svg11.dtd\">\n",
       "<!-- Generated by graphviz version 9.0.0 (20231125.0833)\n",
       " -->\n",
       "<!-- Pages: 1 -->\n",
       "<svg width=\"62pt\" height=\"116pt\"\n",
       " viewBox=\"0.00 0.00 62.00 116.00\" xmlns=\"http://www.w3.org/2000/svg\" xmlns:xlink=\"http://www.w3.org/1999/xlink\">\n",
       "<g id=\"graph0\" class=\"graph\" transform=\"scale(1 1) rotate(0) translate(4 112)\">\n",
       "<polygon fill=\"white\" stroke=\"none\" points=\"-4,4 -4,-112 58,-112 58,4 -4,4\"/>\n",
       "<!-- x -->\n",
       "<g id=\"node1\" class=\"node\">\n",
       "<title>x</title>\n",
       "<ellipse fill=\"white\" stroke=\"black\" cx=\"27\" cy=\"-90\" rx=\"27\" ry=\"18\"/>\n",
       "<text text-anchor=\"middle\" x=\"27\" y=\"-85.33\" font-family=\"Times,serif\" font-size=\"14.00\">x</text>\n",
       "</g>\n",
       "<!-- y -->\n",
       "<g id=\"node2\" class=\"node\">\n",
       "<title>y</title>\n",
       "<ellipse fill=\"white\" stroke=\"black\" cx=\"27\" cy=\"-18\" rx=\"27\" ry=\"18\"/>\n",
       "<text text-anchor=\"middle\" x=\"27\" y=\"-13.32\" font-family=\"Times,serif\" font-size=\"14.00\">y</text>\n",
       "</g>\n",
       "<!-- x&#45;&gt;y -->\n",
       "<g id=\"edge1\" class=\"edge\">\n",
       "<title>x&#45;&gt;y</title>\n",
       "<path fill=\"none\" stroke=\"black\" d=\"M27,-71.7C27,-64.41 27,-55.73 27,-47.54\"/>\n",
       "<polygon fill=\"black\" stroke=\"black\" points=\"30.5,-47.62 27,-37.62 23.5,-47.62 30.5,-47.62\"/>\n",
       "</g>\n",
       "</g>\n",
       "</svg>\n"
      ],
      "text/plain": [
       "<graphviz.graphs.Digraph at 0x7fcc3450a750>"
      ]
     },
     "execution_count": 66,
     "metadata": {},
     "output_type": "execute_result"
    }
   ],
   "source": [
    "def parametric_model(obs_x=None, obs_y=None):\n",
    "    x = pyro.sample(\"x\", dist.Bernoulli(0.2), obs=obs_x)\n",
    "    y = pyro.sample(\"y\", dist.Bernoulli(0.6*x), obs=obs_y).item()\n",
    "    \n",
    "pyro.render_model(parametric_model)"
   ]
  },
  {
   "cell_type": "code",
   "execution_count": 67,
   "metadata": {},
   "outputs": [
    {
     "data": {
      "image/svg+xml": [
       "<?xml version=\"1.0\" encoding=\"UTF-8\" standalone=\"no\"?>\n",
       "<!DOCTYPE svg PUBLIC \"-//W3C//DTD SVG 1.1//EN\"\n",
       " \"http://www.w3.org/Graphics/SVG/1.1/DTD/svg11.dtd\">\n",
       "<!-- Generated by graphviz version 9.0.0 (20231125.0833)\n",
       " -->\n",
       "<!-- Pages: 1 -->\n",
       "<svg width=\"134pt\" height=\"44pt\"\n",
       " viewBox=\"0.00 0.00 134.00 44.00\" xmlns=\"http://www.w3.org/2000/svg\" xmlns:xlink=\"http://www.w3.org/1999/xlink\">\n",
       "<g id=\"graph0\" class=\"graph\" transform=\"scale(1 1) rotate(0) translate(4 40)\">\n",
       "<polygon fill=\"white\" stroke=\"none\" points=\"-4,4 -4,-40 130,-40 130,4 -4,4\"/>\n",
       "<!-- x -->\n",
       "<g id=\"node1\" class=\"node\">\n",
       "<title>x</title>\n",
       "<ellipse fill=\"white\" stroke=\"black\" cx=\"27\" cy=\"-18\" rx=\"27\" ry=\"18\"/>\n",
       "<text text-anchor=\"middle\" x=\"27\" y=\"-13.32\" font-family=\"Times,serif\" font-size=\"14.00\">x</text>\n",
       "</g>\n",
       "<!-- y -->\n",
       "<g id=\"node2\" class=\"node\">\n",
       "<title>y</title>\n",
       "<ellipse fill=\"white\" stroke=\"black\" cx=\"99\" cy=\"-18\" rx=\"27\" ry=\"18\"/>\n",
       "<text text-anchor=\"middle\" x=\"99\" y=\"-13.32\" font-family=\"Times,serif\" font-size=\"14.00\">y</text>\n",
       "</g>\n",
       "</g>\n",
       "</svg>\n"
      ],
      "text/plain": [
       "<graphviz.graphs.Digraph at 0x7fcc3453d410>"
      ]
     },
     "execution_count": 67,
     "metadata": {},
     "output_type": "execute_result"
    }
   ],
   "source": [
    "def parametric_model(obs_x=None, obs_y=None):\n",
    "    x = pyro.sample(\"x\", dist.Bernoulli(0.2), obs=obs_x).item()\n",
    "    y = pyro.sample(\"y\", dist.Bernoulli(0.6*x), obs=obs_y).item()\n",
    "    \n",
    "pyro.render_model(parametric_model)"
   ]
  },
  {
   "cell_type": "markdown",
   "metadata": {},
   "source": [
    "### Summary"
   ]
  },
  {
   "cell_type": "markdown",
   "metadata": {},
   "source": [
    "Now we can consider probabilistic models, represented by a standard graphical notation and convert them in Pyro models with the following primitive functions:\n",
    "\n",
    "- latent random variables -> **pyro.sample**\n",
    "- observed random variables -> **pyro.sample** with **obs** keyword argument\n",
    "- plates (sets of conditionally independent variables) -> **pyro.plate**\n",
    "- learnable parameters -> **pyro.param**\n",
    "\n",
    "For example, we can write the model in the image above assuming the following distibutions:\n",
    "\n",
    "- $\\alpha \\sim Normal(2,1)$\n",
    "- $\\beta \\sim Normal(1,1)$\n",
    "- $\\sigma_y \\sim HalfNormal(0.5,1)$ \n",
    "- $x_i \\sim Normal(0,1)$ with observed data, N independent samples\n",
    "- $y_i \\sim Normal(\\alpha * \\beta + x, \\sigma_y)$ with observed data, N independent samples"
   ]
  },
  {
   "cell_type": "code",
   "execution_count": 68,
   "metadata": {},
   "outputs": [
    {
     "data": {
      "image/svg+xml": [
       "<?xml version=\"1.0\" encoding=\"UTF-8\" standalone=\"no\"?>\n",
       "<!DOCTYPE svg PUBLIC \"-//W3C//DTD SVG 1.1//EN\"\n",
       " \"http://www.w3.org/Graphics/SVG/1.1/DTD/svg11.dtd\">\n",
       "<!-- Generated by graphviz version 9.0.0 (20231125.0833)\n",
       " -->\n",
       "<!-- Pages: 1 -->\n",
       "<svg width=\"560pt\" height=\"216pt\"\n",
       " viewBox=\"0.00 0.00 559.58 215.50\" xmlns=\"http://www.w3.org/2000/svg\" xmlns:xlink=\"http://www.w3.org/1999/xlink\">\n",
       "<g id=\"graph0\" class=\"graph\" transform=\"scale(1 1) rotate(0) translate(4 211.5)\">\n",
       "<polygon fill=\"white\" stroke=\"none\" points=\"-4,4 -4,-211.5 555.58,-211.5 555.58,4 -4,4\"/>\n",
       "<g id=\"clust1\" class=\"cluster\">\n",
       "<title>cluster_N</title>\n",
       "<polygon fill=\"none\" stroke=\"black\" points=\"87.58,-8 87.58,-186.38 157.58,-186.38 157.58,-8 87.58,-8\"/>\n",
       "<text text-anchor=\"middle\" x=\"143.58\" y=\"-15.95\" font-family=\"Times,serif\" font-size=\"14.00\">N</text>\n",
       "</g>\n",
       "<!-- alpha -->\n",
       "<g id=\"node1\" class=\"node\">\n",
       "<title>alpha</title>\n",
       "<ellipse fill=\"white\" stroke=\"black\" cx=\"38.58\" cy=\"-160.38\" rx=\"38.58\" ry=\"18\"/>\n",
       "<text text-anchor=\"middle\" x=\"38.58\" y=\"-155.7\" font-family=\"Times,serif\" font-size=\"14.00\">alpha</text>\n",
       "</g>\n",
       "<!-- y -->\n",
       "<g id=\"node5\" class=\"node\">\n",
       "<title>y</title>\n",
       "<ellipse fill=\"gray\" stroke=\"black\" cx=\"122.58\" cy=\"-59.25\" rx=\"27\" ry=\"18\"/>\n",
       "<text text-anchor=\"middle\" x=\"122.58\" y=\"-54.58\" font-family=\"Times,serif\" font-size=\"14.00\">y</text>\n",
       "</g>\n",
       "<!-- alpha&#45;&gt;y -->\n",
       "<g id=\"edge1\" class=\"edge\">\n",
       "<title>alpha&#45;&gt;y</title>\n",
       "<path fill=\"none\" stroke=\"black\" d=\"M52.08,-143.45C65.65,-127.44 86.73,-102.56 102.31,-84.17\"/>\n",
       "<polygon fill=\"black\" stroke=\"black\" points=\"104.9,-86.53 108.69,-76.64 99.56,-82.01 104.9,-86.53\"/>\n",
       "</g>\n",
       "<!-- beta -->\n",
       "<g id=\"node2\" class=\"node\">\n",
       "<title>beta</title>\n",
       "<ellipse fill=\"white\" stroke=\"black\" cx=\"200.58\" cy=\"-160.38\" rx=\"33.32\" ry=\"18\"/>\n",
       "<text text-anchor=\"middle\" x=\"200.58\" y=\"-155.7\" font-family=\"Times,serif\" font-size=\"14.00\">beta</text>\n",
       "</g>\n",
       "<!-- beta&#45;&gt;y -->\n",
       "<g id=\"edge2\" class=\"edge\">\n",
       "<title>beta&#45;&gt;y</title>\n",
       "<path fill=\"none\" stroke=\"black\" d=\"M188.05,-143.45C175.58,-127.6 156.28,-103.07 141.86,-84.75\"/>\n",
       "<polygon fill=\"black\" stroke=\"black\" points=\"144.7,-82.69 135.76,-77 139.19,-87.02 144.7,-82.69\"/>\n",
       "</g>\n",
       "<!-- sigma_y -->\n",
       "<g id=\"node3\" class=\"node\">\n",
       "<title>sigma_y</title>\n",
       "<ellipse fill=\"white\" stroke=\"black\" cx=\"303.58\" cy=\"-160.38\" rx=\"51.73\" ry=\"18\"/>\n",
       "<text text-anchor=\"middle\" x=\"303.58\" y=\"-155.7\" font-family=\"Times,serif\" font-size=\"14.00\">sigma_y</text>\n",
       "</g>\n",
       "<!-- sigma_y&#45;&gt;y -->\n",
       "<g id=\"edge3\" class=\"edge\">\n",
       "<title>sigma_y&#45;&gt;y</title>\n",
       "<path fill=\"none\" stroke=\"black\" d=\"M284.61,-143.21C272.96,-133.76 257.46,-122 242.58,-113.25 214.83,-96.93 181.14,-82.47 156.53,-72.8\"/>\n",
       "<polygon fill=\"black\" stroke=\"black\" points=\"157.92,-69.58 147.33,-69.25 155.4,-76.11 157.92,-69.58\"/>\n",
       "</g>\n",
       "<!-- x -->\n",
       "<g id=\"node4\" class=\"node\">\n",
       "<title>x</title>\n",
       "<ellipse fill=\"gray\" stroke=\"black\" cx=\"122.58\" cy=\"-160.38\" rx=\"27\" ry=\"18\"/>\n",
       "<text text-anchor=\"middle\" x=\"122.58\" y=\"-155.7\" font-family=\"Times,serif\" font-size=\"14.00\">x</text>\n",
       "</g>\n",
       "<!-- x&#45;&gt;y -->\n",
       "<g id=\"edge4\" class=\"edge\">\n",
       "<title>x&#45;&gt;y</title>\n",
       "<path fill=\"none\" stroke=\"black\" d=\"M122.58,-142.11C122.58,-127.49 122.58,-106.22 122.58,-89.03\"/>\n",
       "<polygon fill=\"black\" stroke=\"black\" points=\"126.08,-89.16 122.58,-79.16 119.08,-89.16 126.08,-89.16\"/>\n",
       "</g>\n",
       "<!-- distribution_description_node -->\n",
       "<g id=\"node6\" class=\"node\">\n",
       "<title>distribution_description_node</title>\n",
       "<text text-anchor=\"start\" x=\"381.58\" y=\"-190.2\" font-family=\"Times,serif\" font-size=\"14.00\">alpha ~ Normal</text>\n",
       "<text text-anchor=\"start\" x=\"381.58\" y=\"-172.95\" font-family=\"Times,serif\" font-size=\"14.00\">beta ~ Normal</text>\n",
       "<text text-anchor=\"start\" x=\"381.58\" y=\"-155.7\" font-family=\"Times,serif\" font-size=\"14.00\">sigma_y ~ HalfNormal</text>\n",
       "<text text-anchor=\"start\" x=\"381.58\" y=\"-138.45\" font-family=\"Times,serif\" font-size=\"14.00\">x ~ Normal</text>\n",
       "<text text-anchor=\"start\" x=\"381.58\" y=\"-121.2\" font-family=\"Times,serif\" font-size=\"14.00\">y ~ Normal</text>\n",
       "</g>\n",
       "</g>\n",
       "</svg>\n"
      ],
      "text/plain": [
       "<graphviz.graphs.Digraph at 0x7fcc28142c90>"
      ]
     },
     "execution_count": 68,
     "metadata": {},
     "output_type": "execute_result"
    }
   ],
   "source": [
    "def parametric_model(x_data, y_data):\n",
    "    alpha = pyro.sample('alpha', dist.Normal(2,1))\n",
    "    beta = pyro.sample('beta', dist.Normal(1,1))\n",
    "    sigma_y = pyro.sample('sigma_y', dist.HalfNormal(0.5,1))\n",
    "    with pyro.plate(\"N\", len(x_data)):\n",
    "        x = pyro.sample(\"x\", dist.Normal(0,1), obs=x_data)\n",
    "        pyro.sample(\"y\", dist.Normal(alpha*beta + x, sigma_y), obs=y_data)\n",
    "\n",
    "# OBSERVED DATA\n",
    "data_x = torch.tensor((0, 0.2, 0.1, 0.3, 0, 0.1, 0.2, -0.1, -0.3, 0))\n",
    "data_y = torch.tensor((2,3,2.5,1.5,0,1.5,1,2.3,3,2.8))\n",
    "\n",
    "# VISUALIZE THE MODEL\n",
    "pyro.render_model(parametric_model, model_args=(data_x,data_y,), render_params=True ,render_distributions=True)"
   ]
  },
  {
   "cell_type": "code",
   "execution_count": null,
   "metadata": {},
   "outputs": [],
   "source": []
  }
 ],
 "metadata": {
  "kernelspec": {
   "display_name": "stdenv",
   "language": "python",
   "name": "python3"
  },
  "language_info": {
   "codemirror_mode": {
    "name": "ipython",
    "version": 3
   },
   "file_extension": ".py",
   "mimetype": "text/x-python",
   "name": "python",
   "nbconvert_exporter": "python",
   "pygments_lexer": "ipython3",
   "version": "3.11.11"
  }
 },
 "nbformat": 4,
 "nbformat_minor": 2
}
